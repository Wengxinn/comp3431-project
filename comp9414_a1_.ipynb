{
 "cells": [
  {
   "cell_type": "markdown",
   "id": "750b0a0c",
   "metadata": {},
   "source": [
    "# COMP9414 Assignment 1\n",
    "# Artificial Neural Networks\n",
    "@author: Weng Xinn Chow (z5346077)\n",
    "\n",
    "@date: 21st June 2024"
   ]
  },
  {
   "cell_type": "markdown",
   "id": "12dd09e6",
   "metadata": {},
   "source": [
    "## Import libraries"
   ]
  },
  {
   "cell_type": "code",
   "execution_count": 1,
   "id": "ea4225fd",
   "metadata": {},
   "outputs": [],
   "source": [
    "import pandas as pd\n",
    "import numpy as np\n",
    "import seaborn as sns\n",
    "import matplotlib.pyplot as plt\n",
    "\n",
    "from sklearn.model_selection import train_test_split\n",
    "from sklearn.preprocessing import StandardScaler\n",
    "from sklearn.ensemble import RandomForestRegressor\n",
    "from sklearn.inspection import permutation_importance\n",
    "from sklearn.metrics import confusion_matrix, accuracy_score, precision_score, mean_squared_error, mean_absolute_error\n",
    "\n",
    "import keras\n",
    "import keras_tuner as kt\n",
    "from keras.models import Sequential\n",
    "from keras.layers import Dense, Activation, Dropout\n",
    "from keras.optimizers import Adam, SGD\n",
    "from sklearn.model_selection import RandomizedSearchCV\n",
    "from keras_tuner import HyperModel\n",
    "from keras_tuner.tuners import RandomSearch"
   ]
  },
  {
   "cell_type": "markdown",
   "id": "b851511b",
   "metadata": {},
   "source": [
    "## Import dataset"
   ]
  },
  {
   "cell_type": "code",
   "execution_count": 2,
   "id": "99ab08b3",
   "metadata": {},
   "outputs": [],
   "source": [
    "filepath = \"./AirQualityUCI _ Students.xlsx\"\n",
    "df = pd.read_excel(filepath)\n",
    "# df.head()"
   ]
  },
  {
   "cell_type": "markdown",
   "id": "320a9fe5",
   "metadata": {},
   "source": [
    "### Initial data inspection"
   ]
  },
  {
   "cell_type": "code",
   "execution_count": 3,
   "id": "58062ce5",
   "metadata": {},
   "outputs": [],
   "source": [
    "# # Check shape of dataframe\n",
    "# print(df.shape)"
   ]
  },
  {
   "cell_type": "code",
   "execution_count": 4,
   "id": "8f9d313e",
   "metadata": {},
   "outputs": [],
   "source": [
    "# print(df.columns)"
   ]
  },
  {
   "cell_type": "code",
   "execution_count": 5,
   "id": "fe862685",
   "metadata": {},
   "outputs": [],
   "source": [
    "# df.info()"
   ]
  },
  {
   "cell_type": "markdown",
   "id": "d44ce244",
   "metadata": {},
   "source": [
    "### Initial data cleansing"
   ]
  },
  {
   "cell_type": "code",
   "execution_count": 6,
   "id": "2bb9f295",
   "metadata": {},
   "outputs": [],
   "source": [
    "# Drop duplicates (if any)\n",
    "df = df.drop_duplicates()"
   ]
  },
  {
   "cell_type": "code",
   "execution_count": 7,
   "id": "1d29148e",
   "metadata": {},
   "outputs": [],
   "source": [
    "# Replace missing values (-200) with NaN\n",
    "df.replace(-200, np.nan, inplace=True)"
   ]
  },
  {
   "cell_type": "code",
   "execution_count": 8,
   "id": "9d9304cb",
   "metadata": {},
   "outputs": [],
   "source": [
    "# df.head(10)"
   ]
  },
  {
   "cell_type": "code",
   "execution_count": 9,
   "id": "dad0ac5f",
   "metadata": {},
   "outputs": [],
   "source": [
    "# df.info()"
   ]
  },
  {
   "cell_type": "markdown",
   "id": "2d41bd18",
   "metadata": {},
   "source": [
    "## Initial Exploratory data analysis (EDA)"
   ]
  },
  {
   "cell_type": "markdown",
   "id": "ed3d5657",
   "metadata": {},
   "source": [
    "### Statistical summary"
   ]
  },
  {
   "cell_type": "code",
   "execution_count": 10,
   "id": "a7fb2fa5",
   "metadata": {},
   "outputs": [],
   "source": [
    "# # Range (min & max), mean, std deviation of variables\n",
    "# df.describe()"
   ]
  },
  {
   "cell_type": "markdown",
   "id": "5c9793ee",
   "metadata": {},
   "source": [
    "Statistical data such as min, max and mean can be observed from the summary above. The range of variables are distributed widely, indicating the potential need of feature normalisation before training models."
   ]
  },
  {
   "cell_type": "markdown",
   "id": "51ed6857",
   "metadata": {},
   "source": [
    "### Missing data visualisation"
   ]
  },
  {
   "cell_type": "code",
   "execution_count": 11,
   "id": "fb4d7163",
   "metadata": {},
   "outputs": [],
   "source": [
    "# # Heatmap to visualise missing data\n",
    "# plt.figure(figsize=(12,6))\n",
    "\n",
    "# # Determine if values are null (True if null)\n",
    "# missing_df = df.isnull()\n",
    "# sns.heatmap(missing_df, cbar=False, cmap='rocket_r')\n",
    "\n",
    "# plt.title('Missing Data Heatmap')\n",
    "# plt.tight_layout()\n",
    "# plt.show()"
   ]
  },
  {
   "cell_type": "markdown",
   "id": "c830bb9a",
   "metadata": {},
   "source": [
    "The heatmap is used to visualise missing data across each variable. It can be observed that NMHC(GT) has the largest amount of missing values compared to other variables. The effect of missing data is not negligible and therefore, it may be infeasible to drop those values for our model training."
   ]
  },
  {
   "cell_type": "markdown",
   "id": "14071d6b",
   "metadata": {},
   "source": [
    "### Distribution of target variables: CO(GT) & NOx(GT)"
   ]
  },
  {
   "cell_type": "code",
   "execution_count": 12,
   "id": "1fd9063f",
   "metadata": {},
   "outputs": [],
   "source": [
    "# def plot_distribution(data, columns, nrows, ncols, figsize, bins=100, kde=True, dpi=100, titles=None, suptitle=None, xlabels=None):\n",
    "#     \"\"\"\n",
    "#     Plot respective distribution of specified columns.\n",
    "#     \"\"\"\n",
    "#     fig, axes = plt.subplots(nrows=nrows, ncols=ncols, figsize=figsize, dpi=dpi)\n",
    "#     axes = axes.flatten()\n",
    "    \n",
    "#     # Plot distribution for each feature\n",
    "#     for i, col in enumerate(columns):\n",
    "#         sns.histplot(data[col], bins=bins, kde=kde, ax=axes[i])\n",
    "#         axes[i].set_title(f\"Distribution of {col}\")\n",
    "#         axes[i].set_xlabel(col)\n",
    "#         axes[i].set_ylabel(\"Frequency\")\n",
    "        \n",
    "#     plt.tight_layout()\n",
    "#     return fig, axes"
   ]
  },
  {
   "cell_type": "code",
   "execution_count": 13,
   "id": "19101c8c",
   "metadata": {},
   "outputs": [],
   "source": [
    "# # Distribution plots of CO(GT) and NOx(GT)\n",
    "# target_cols = [\"CO(GT)\", \"NOx(GT)\"]\n",
    "# target_df = df[target_cols]\n",
    "# fig, axes = plot_distribution(data=target_df, columns=target_cols, nrows=1, ncols=2, figsize=(18,6))\n",
    "# plt.show()"
   ]
  },
  {
   "cell_type": "markdown",
   "id": "70244398",
   "metadata": {},
   "source": [
    "The plots above show the distribution of respective target variables for classification and regression tasks (excluding missing values)."
   ]
  },
  {
   "cell_type": "markdown",
   "id": "770a12d8",
   "metadata": {},
   "source": [
    "### Distribution of features"
   ]
  },
  {
   "cell_type": "code",
   "execution_count": 14,
   "id": "0862f85a",
   "metadata": {},
   "outputs": [],
   "source": [
    "df2 = df.copy()\n",
    "\n",
    "# Merge Datetime (datetime object)\n",
    "df2['DateTime'] = pd.to_datetime(df2['Date'].astype(str) + ' ' + df2['Time'].astype(str))\n",
    "df2.insert(1, 'DateTime', df2.pop('DateTime'))\n",
    "\n",
    "# Drop Date and Time column\n",
    "df2.drop(['Date', 'Time'], axis=1, inplace=True)\n",
    "# df2.head()"
   ]
  },
  {
   "cell_type": "code",
   "execution_count": 15,
   "id": "f8965026",
   "metadata": {},
   "outputs": [],
   "source": [
    "# df2.info()"
   ]
  },
  {
   "cell_type": "code",
   "execution_count": 16,
   "id": "984d2ce5",
   "metadata": {},
   "outputs": [],
   "source": [
    "# feature_cols = [col for col in df2.columns if col != \"CO(GT)\" and col != \"NOx(GT)\"]\n",
    "# print(feature_cols)"
   ]
  },
  {
   "cell_type": "code",
   "execution_count": 17,
   "id": "4576c80f",
   "metadata": {},
   "outputs": [],
   "source": [
    "# # Plot distribution of features\n",
    "# feature_df = df2[feature_cols]\n",
    "# fig, axes = plot_distribution(data=feature_df, columns=feature_cols, nrows=4, ncols=3, figsize=(16,12))\n",
    "# plt.show()"
   ]
  },
  {
   "cell_type": "markdown",
   "id": "b6a485f3",
   "metadata": {},
   "source": [
    "From the plots above, it can be clearly seen that the distributions of NMHC(GT), C6H6(GT), PT08.S3(NOx) are positively skewed. By analysing the distribution plots, it helps to determine the reasonable methods to handle missing values. "
   ]
  },
  {
   "cell_type": "markdown",
   "id": "cc6b954e",
   "metadata": {},
   "source": [
    "## Data preprocessing & EDA"
   ]
  },
  {
   "cell_type": "markdown",
   "id": "6c7009a3",
   "metadata": {},
   "source": [
    "### Handling outliers and missing values"
   ]
  },
  {
   "cell_type": "markdown",
   "id": "a019168e",
   "metadata": {},
   "source": [
    "By considering the amount of missing data, it is infeasible to directly drop those values as they could contribute a significant effects towards the final output of the model. **Mean and median imputation** and **data interpolation** are used to handle the missing values. "
   ]
  },
  {
   "cell_type": "markdown",
   "id": "a3b9de95",
   "metadata": {},
   "source": [
    "#### Mean and median imputation"
   ]
  },
  {
   "cell_type": "markdown",
   "id": "c48c2074",
   "metadata": {},
   "source": [
    "As mentioned before, each variable have different skewness of distribution. Therefore, imputation of missing values are carried out based on their distribution skewness. If a feature has a normal (symmetric) distribution, mean imputation (replace missing values with mean) can be used. On the other hand, if it has a skewed distribution, it is generally more appropriate to use median imputation as median is more robust to potential outliers. "
   ]
  },
  {
   "cell_type": "code",
   "execution_count": 18,
   "id": "7d2a6817",
   "metadata": {},
   "outputs": [],
   "source": [
    "# # Threshold to determine skewness threshold\n",
    "# # Normal distribution if skewness < threshold\n",
    "# threshold = 0.5\n",
    "# df2_impute = df2.copy()\n",
    "# for col in df2_impute.drop(\"DateTime\", axis=1):\n",
    "#     skewness = df2_impute[col].skew()\n",
    "#     mean = df2_impute[col].mean()\n",
    "#     median = df2_impute[col].median()\n",
    "    \n",
    "#     # Mean imputation if normal distribution\n",
    "#     if abs(skewness) < threshold: \n",
    "#         df2_impute[col].fillna(mean, inplace=True)\n",
    "#     # Median imputation if skewed distribution\n",
    "#     else:\n",
    "#         df2_impute[col].fillna(median, inplace=True)"
   ]
  },
  {
   "cell_type": "code",
   "execution_count": 19,
   "id": "a6ded9b4",
   "metadata": {},
   "outputs": [],
   "source": [
    "# df2_impute.head(10)"
   ]
  },
  {
   "cell_type": "code",
   "execution_count": 20,
   "id": "2e7a0575",
   "metadata": {},
   "outputs": [],
   "source": [
    "# df2_impute.info()"
   ]
  },
  {
   "cell_type": "code",
   "execution_count": 21,
   "id": "701fb2f9",
   "metadata": {},
   "outputs": [],
   "source": [
    "# df2_impute.describe()"
   ]
  },
  {
   "cell_type": "code",
   "execution_count": 22,
   "id": "df77fafe",
   "metadata": {},
   "outputs": [],
   "source": [
    "# # Distribution plots of CO(GT) and NO2(GT)\n",
    "# # target_cols = [\"CO(GT)\", \"NOx(GT)\"]\n",
    "# target_df = df2_impute[target_cols]\n",
    "# fig, axes = plot_distribution(data=target_df, columns=target_cols, nrows=1, ncols=2, figsize=(18,6))\n",
    "# plt.show()"
   ]
  },
  {
   "cell_type": "code",
   "execution_count": 23,
   "id": "39b75d89",
   "metadata": {},
   "outputs": [],
   "source": [
    "# # Plot distribution of features\n",
    "# feature_df = df2_impute[feature_cols]\n",
    "# fig, axes = plot_distribution(data=feature_df, columns=feature_cols, nrows=4, ncols=3, figsize=(16,12))\n",
    "# plt.show()"
   ]
  },
  {
   "cell_type": "markdown",
   "id": "836276e8",
   "metadata": {},
   "source": [
    "From the plots, it can be observed that the mean and median for corresponding variables has higher frequency, which is understandable as they are imputed to replace the missing data."
   ]
  },
  {
   "cell_type": "markdown",
   "id": "bedf920c",
   "metadata": {},
   "source": [
    "#### Interpolation"
   ]
  },
  {
   "cell_type": "markdown",
   "id": "669d18ab",
   "metadata": {},
   "source": [
    "The dataset is recorded over intervals of time. Therefore, it is pertinent to use time data interpolation to fill the missing data. The method basically estimates the missing data based on the two adjacent data values. "
   ]
  },
  {
   "cell_type": "code",
   "execution_count": 24,
   "id": "45de87ac",
   "metadata": {},
   "outputs": [],
   "source": [
    "df2_interpolate = df2.copy()\n",
    "\n",
    "# Set DateTime as index for interpolation\n",
    "df2_interpolate.set_index('DateTime', inplace=True)\n",
    "df2_interpolate.interpolate(method='time', inplace=True)"
   ]
  },
  {
   "cell_type": "code",
   "execution_count": 25,
   "id": "bc2bd645",
   "metadata": {},
   "outputs": [],
   "source": [
    "df2_interpolate.reset_index(inplace=True)\n",
    "# df2_interpolate.head(10)"
   ]
  },
  {
   "cell_type": "code",
   "execution_count": 26,
   "id": "f46140e1",
   "metadata": {},
   "outputs": [],
   "source": [
    "# df2_interpolate.info()"
   ]
  },
  {
   "cell_type": "code",
   "execution_count": 27,
   "id": "9ac338cd",
   "metadata": {},
   "outputs": [],
   "source": [
    "# df2_interpolate.describe()"
   ]
  },
  {
   "cell_type": "code",
   "execution_count": 28,
   "id": "06239455",
   "metadata": {},
   "outputs": [],
   "source": [
    "# # Distribution plots of CO(GT) and NOx(GT)\n",
    "# # target_cols = [\"CO(GT)\", \"NO2(GT)\"]\n",
    "# target_df = df2_interpolate[target_cols]\n",
    "# fig, axes = plot_distribution(data=target_df, columns=target_cols, nrows=1, ncols=2, figsize=(18,6))\n",
    "# plt.show()"
   ]
  },
  {
   "cell_type": "code",
   "execution_count": 29,
   "id": "55a4aa97",
   "metadata": {},
   "outputs": [],
   "source": [
    "# # Plot distribution of features\n",
    "# feature_df = df2_interpolate[feature_cols]\n",
    "# fig, axes = plot_distribution(data=feature_df, columns=feature_cols, nrows=4, ncols=3, figsize=(16,12))\n",
    "# plt.show()"
   ]
  },
  {
   "cell_type": "code",
   "execution_count": 30,
   "id": "9a2849d8",
   "metadata": {},
   "outputs": [],
   "source": [
    "# Use the interpolated data\n",
    "# Drop DateTime (not continuous data)\n",
    "df_ = df2_interpolate.copy()\n",
    "df_.drop(\"DateTime\", axis=1, inplace=True)\n",
    "\n",
    "# # Use the imputed data\n",
    "# # Drop DateTime (not continuous data)\n",
    "# df_ = df2_impute.copy()\n",
    "# df_.drop(\"DateTime\", axis=1, inplace=True)"
   ]
  },
  {
   "cell_type": "markdown",
   "id": "eb5c7a75",
   "metadata": {},
   "source": [
    "By comparing the results of two methods, data interpolation is used to handle missing values. Imputation is not suitable for time-series data and the result indicates potential bias towards mean and median values. "
   ]
  },
  {
   "cell_type": "markdown",
   "id": "af2a1c44",
   "metadata": {},
   "source": [
    "### Correlation between features and target variables"
   ]
  },
  {
   "cell_type": "code",
   "execution_count": 31,
   "id": "a4cbf8af",
   "metadata": {},
   "outputs": [],
   "source": [
    "# fig, axes = plt.subplots(nrows=1, ncols=2, figsize=(18,6), dpi=100)\n",
    "# axes = axes.flatten()\n",
    "\n",
    "# # Correlation of CO(GT)\n",
    "# sns.heatmap(df_.corr().drop(\"CO(GT)\")[[\"CO(GT)\"]], cmap=\"coolwarm\", annot=True, ax=axes[0]) \n",
    "# axes[0].set_title(\"Correlation between CO(GT) and other variables\")\n",
    "\n",
    "# # Correlation of NOx(GT)\n",
    "# sns.heatmap(df_.corr().drop(\"NOx(GT)\")[[\"NOx(GT)\"]], cmap=\"coolwarm\", annot=True, ax=axes[1]) \n",
    "# axes[1].set_title(\"Correlation between NOx(GT) and other variables\")\n",
    "\n",
    "# plt.tight_layout()\n",
    "# plt.show()"
   ]
  },
  {
   "cell_type": "markdown",
   "id": "713a013f",
   "metadata": {},
   "source": [
    "Correlation between features and target variables are plotted in the heatmaps above. They are useful for feature selection, in which those features with lower correlation can be treated as redundant data, can be removed from model training."
   ]
  },
  {
   "cell_type": "markdown",
   "id": "252ef23b",
   "metadata": {},
   "source": [
    "### Feature selection with random forests and correlation-filtering approach"
   ]
  },
  {
   "cell_type": "markdown",
   "id": "cb9b9153",
   "metadata": {},
   "source": [
    "A hybrid of correlation-filtering approach and random forest model (to determine feature importance) are used to select feature. By assigning a correlation threshold and an importance threshold, we can select features effectively based on their correlation with the corresponding target variable and their importance value."
   ]
  },
  {
   "cell_type": "code",
   "execution_count": 32,
   "id": "d162a7c7",
   "metadata": {},
   "outputs": [],
   "source": [
    "# # Data used to train\n",
    "# df_.head()"
   ]
  },
  {
   "cell_type": "code",
   "execution_count": 33,
   "id": "b164d8f0",
   "metadata": {},
   "outputs": [],
   "source": [
    "def feature_selection(task, df, corr_threshold=0.1, perm_threshold=0.01, random_state=42, test_size=0.3, n_estimators=100, max_depth=None):\n",
    "    \"\"\"\n",
    "    Feature selection using the hybrid approach of correlation filtering and Random forest model. \n",
    "    Selected features should satisfy both threshold conditions.\n",
    "    \"\"\"\n",
    "    # Classification task\n",
    "    if task == 1:\n",
    "        target = \"CO(GT)\"\n",
    "    # Regression task\n",
    "    else: target = \"NOx(GT)\"\n",
    "    \n",
    "    # Split train and test sets\n",
    "    X = df.drop(target, axis=1)\n",
    "    y = df[target]\n",
    "    X_train, X_test, y_train, y_test = train_test_split(X, y, random_state=random_state, test_size=test_size)\n",
    "    \n",
    "    # Normalise data\n",
    "    scaler = StandardScaler()\n",
    "    X_train = scaler.fit_transform(X_train)\n",
    "    X_test = scaler.transform(X_test)\n",
    "    \n",
    "    # Train a random forest regressor\n",
    "    rf = RandomForestRegressor(n_estimators=n_estimators, max_depth=max_depth, random_state=random_state)\n",
    "    rf.fit(X_train, y_train)\n",
    "    \n",
    "    # Get permutation importance of each feature \n",
    "    importances = permutation_importance(rf, X_test, y_test, random_state=42)\n",
    "    \n",
    "    # Create a relevant dataframe and sort by descending order\n",
    "    feature_importances = pd.DataFrame({\n",
    "        \"feature\": X.columns,\n",
    "        \"importance\": importances.importances_mean\n",
    "    }).sort_values(by=\"importance\", ascending=False)\n",
    "    \n",
    "    print(\"Feature permutation importances:\")\n",
    "    print(feature_importances)\n",
    "    \n",
    "    # Compute correlation between features and the target variable and create dataframe\n",
    "    corr = df.corr()[target].drop(target)\n",
    "    feature_corr = corr.to_frame().reset_index()\n",
    "    feature_corr.columns = [\"feature\", \"correlation\"]\n",
    "    \n",
    "    print(f\"\\nFeature correlations with {target}:\")\n",
    "    print(feature_corr)\n",
    "    \n",
    "    # Select features that exceed correlation threshold\n",
    "    corr_features = corr[corr.abs() > corr_threshold].index.tolist()\n",
    "    \n",
    "    # Select features that exceed permutation importance threshold\n",
    "    perm_features = X.columns[importances.importances_mean > perm_threshold]\n",
    "    \n",
    "    # Filter out features that don't exceed both threshold\n",
    "    selected_features = list(set(corr_features).union(set(perm_features)))\n",
    "    \n",
    "    return feature_importances, feature_corr, selected_features"
   ]
  },
  {
   "cell_type": "markdown",
   "id": "5ba4cbcb",
   "metadata": {},
   "source": [
    "#### Classification task: CO"
   ]
  },
  {
   "cell_type": "code",
   "execution_count": 34,
   "id": "169957fb",
   "metadata": {},
   "outputs": [],
   "source": [
    "# Set parameters for feature selection\n",
    "corr_threshold = 0.1\n",
    "perm_threshold = 0.01\n",
    "test_size = 0.3"
   ]
  },
  {
   "cell_type": "code",
   "execution_count": 35,
   "id": "bd031b1b",
   "metadata": {},
   "outputs": [
    {
     "name": "stdout",
     "output_type": "stream",
     "text": [
      "Feature permutation importances:\n",
      "          feature  importance\n",
      "4         NOx(GT)    0.685849\n",
      "3   PT08.S2(NMHC)    0.127466\n",
      "7    PT08.S4(NO2)    0.089900\n",
      "2        C6H6(GT)    0.067200\n",
      "6         NO2(GT)    0.067147\n",
      "0     PT08.S1(CO)    0.045799\n",
      "11             AH    0.029536\n",
      "8     PT08.S5(O3)    0.013575\n",
      "1        NMHC(GT)    0.010562\n",
      "9               T    0.009245\n",
      "5    PT08.S3(NOx)    0.008634\n",
      "10             RH    0.005370\n",
      "\n",
      "Feature correlations with CO(GT):\n",
      "          feature  correlation\n",
      "0     PT08.S1(CO)     0.787535\n",
      "1        NMHC(GT)     0.277825\n",
      "2        C6H6(GT)     0.805365\n",
      "3   PT08.S2(NMHC)     0.797853\n",
      "4         NOx(GT)     0.790965\n",
      "5    PT08.S3(NOx)    -0.661838\n",
      "6         NO2(GT)     0.676904\n",
      "7    PT08.S4(NO2)     0.549297\n",
      "8     PT08.S5(O3)     0.767356\n",
      "9               T     0.028419\n",
      "10             RH     0.063494\n",
      "11             AH     0.079203\n"
     ]
    }
   ],
   "source": [
    "# Select features based on Random forests and correlation with CO(GT)\n",
    "importances1, corr1, selected1 = feature_selection(task=1, \n",
    "                                                  df=df_,\n",
    "                                                  corr_threshold=corr_threshold, \n",
    "                                                  perm_threshold=perm_threshold, \n",
    "                                                  test_size=test_size)"
   ]
  },
  {
   "cell_type": "code",
   "execution_count": 36,
   "id": "4507a392",
   "metadata": {},
   "outputs": [],
   "source": [
    "# # Plot importances and correlations\n",
    "# fig, axes = plt.subplots(nrows=1, ncols=2, figsize=(18,6), dpi=100)\n",
    "# axes = axes.flatten()\n",
    "\n",
    "# sns.barplot(x=\"importance\", y=\"feature\", data=importances1, ax=axes[0])\n",
    "# axes[0].set_title(\"Feature permutation importances\")\n",
    "\n",
    "# # Observe absolute values and sort by descending order\n",
    "# corr1[\"correlation\"] = corr1[\"correlation\"].abs()\n",
    "# corr1 = corr1.sort_values(by=\"correlation\", ascending=False)\n",
    "# sns.barplot(x=\"correlation\", y=\"feature\", data=corr1, ax=axes[1])\n",
    "# axes[1].set_title(\"Feature correlations with CO(GT)\")\n",
    "\n",
    "# plt.tight_layout()\n",
    "# plt.show()"
   ]
  },
  {
   "cell_type": "code",
   "execution_count": 37,
   "id": "9ebf0ca7",
   "metadata": {},
   "outputs": [
    {
     "name": "stdout",
     "output_type": "stream",
     "text": [
      "Selected features for task 1:\n",
      "['AH', 'NO2(GT)', 'PT08.S4(NO2)', 'C6H6(GT)', 'PT08.S2(NMHC)', 'PT08.S3(NOx)', 'NOx(GT)', 'NMHC(GT)', 'PT08.S5(O3)', 'PT08.S1(CO)']\n"
     ]
    }
   ],
   "source": [
    "print(f\"Selected features for task 1:\\n{selected1}\")"
   ]
  },
  {
   "cell_type": "code",
   "execution_count": 38,
   "id": "b3476345",
   "metadata": {},
   "outputs": [],
   "source": [
    "# Data with selected features only\n",
    "df_1 = df_.loc[:, selected1 + [\"CO(GT)\"]]\n",
    "# df_1.head()\n",
    "\n",
    "# df_1.info()"
   ]
  },
  {
   "cell_type": "markdown",
   "id": "5a2a63c9",
   "metadata": {},
   "source": [
    "Feature: T and RH are weakly correlated with the target, CO(GT) and their importance values computed from random forests model are considered low (as they didn't exceed the threshold), so they are eliminated."
   ]
  },
  {
   "cell_type": "markdown",
   "id": "dc5c6cb6",
   "metadata": {},
   "source": [
    "#### Regression task: NOx"
   ]
  },
  {
   "cell_type": "code",
   "execution_count": 39,
   "id": "1a933025",
   "metadata": {},
   "outputs": [
    {
     "name": "stdout",
     "output_type": "stream",
     "text": [
      "Feature permutation importances:\n",
      "          feature  importance\n",
      "6         NO2(GT)    0.342008\n",
      "5    PT08.S3(NOx)    0.205525\n",
      "0          CO(GT)    0.138101\n",
      "7    PT08.S4(NO2)    0.124562\n",
      "9               T    0.047846\n",
      "10             RH    0.032111\n",
      "8     PT08.S5(O3)    0.026172\n",
      "3        C6H6(GT)    0.013430\n",
      "4   PT08.S2(NMHC)    0.009544\n",
      "11             AH    0.008629\n",
      "1     PT08.S1(CO)    0.007015\n",
      "2        NMHC(GT)    0.002810\n",
      "\n",
      "Feature correlations with NOx(GT):\n",
      "          feature  correlation\n",
      "0          CO(GT)     0.790965\n",
      "1     PT08.S1(CO)     0.672578\n",
      "2        NMHC(GT)     0.163453\n",
      "3        C6H6(GT)     0.647824\n",
      "4   PT08.S2(NMHC)     0.640303\n",
      "5    PT08.S3(NOx)    -0.636793\n",
      "6         NO2(GT)     0.768611\n",
      "7    PT08.S4(NO2)     0.202550\n",
      "8     PT08.S5(O3)     0.737645\n",
      "9               T    -0.246834\n",
      "10             RH     0.204182\n",
      "11             AH    -0.127588\n"
     ]
    }
   ],
   "source": [
    "# Select features based on Random forests and correlation with NOx(GT)\n",
    "importances2, corr2, selected2 = feature_selection(task=2, \n",
    "                                                  df=df_,\n",
    "                                                  corr_threshold=corr_threshold, \n",
    "                                                  perm_threshold=perm_threshold, \n",
    "                                                  test_size=test_size)"
   ]
  },
  {
   "cell_type": "code",
   "execution_count": 40,
   "id": "898bd9cb",
   "metadata": {},
   "outputs": [],
   "source": [
    "# # Plot importances and correlations\n",
    "# fig, axes = plt.subplots(nrows=1, ncols=2, figsize=(18,6), dpi=100)\n",
    "# axes = axes.flatten()\n",
    "\n",
    "# sns.barplot(x=\"importance\", y=\"feature\", data=importances2, ax=axes[0])\n",
    "# axes[0].set_title(\"Feature permutation importances\")\n",
    "\n",
    "# # Observe absolute values and sort by descending order\n",
    "# corr2[\"correlation\"] = corr2[\"correlation\"].abs()\n",
    "# corr2 = corr2.sort_values(by=\"correlation\", ascending=False)\n",
    "# sns.barplot(x=\"correlation\", y=\"feature\", data=corr2, ax=axes[1])\n",
    "# axes[1].set_title(\"Feature correlations with NOx(GT)\")\n",
    "\n",
    "# plt.tight_layout()\n",
    "# plt.show()"
   ]
  },
  {
   "cell_type": "code",
   "execution_count": 41,
   "id": "8a7e45d5",
   "metadata": {},
   "outputs": [
    {
     "name": "stdout",
     "output_type": "stream",
     "text": [
      "Selected features for task 2:\n",
      "['C6H6(GT)', 'CO(GT)', 'AH', 'PT08.S2(NMHC)', 'NMHC(GT)', 'PT08.S5(O3)', 'T', 'NO2(GT)', 'PT08.S4(NO2)', 'PT08.S3(NOx)', 'RH', 'PT08.S1(CO)']\n"
     ]
    }
   ],
   "source": [
    "print(f\"Selected features for task 2:\\n{selected2}\")"
   ]
  },
  {
   "cell_type": "code",
   "execution_count": 42,
   "id": "0baaa697",
   "metadata": {},
   "outputs": [],
   "source": [
    "df_2 = df_.loc[:, selected2 + [\"NOx(GT)\"]]\n",
    "# df_2.head()\n",
    "\n",
    "# df_2.info()"
   ]
  },
  {
   "cell_type": "markdown",
   "id": "14e3d88c",
   "metadata": {},
   "source": [
    "No features are eliminated."
   ]
  },
  {
   "cell_type": "markdown",
   "id": "dea9ae28",
   "metadata": {},
   "source": [
    "### Target label for classification task"
   ]
  },
  {
   "cell_type": "code",
   "execution_count": 43,
   "id": "ebeb66c1",
   "metadata": {},
   "outputs": [],
   "source": [
    "# Determine threshold by calculating the mean of CO(GT)\n",
    "mean_threshold = df[\"CO(GT)\"].mean()\n",
    "\n",
    "# Label target: 1 if > threshold, 0 otherwise\n",
    "df_1[\"target\"] = (df_1[\"CO(GT)\"] > mean_threshold).astype(int) \n",
    "df_1.drop(\"CO(GT)\", axis=1, inplace=True)\n",
    "# df_1.head()"
   ]
  },
  {
   "cell_type": "markdown",
   "id": "fdedd58e",
   "metadata": {},
   "source": [
    "### Distribution of processed target variables"
   ]
  },
  {
   "cell_type": "code",
   "execution_count": 44,
   "id": "fe64223b",
   "metadata": {},
   "outputs": [],
   "source": [
    "# Change column name of target for regression task (consistency)\n",
    "df_2.rename(columns={\"NOx(GT)\": \"target\"}, inplace=True)\n",
    "# df_2.head()"
   ]
  },
  {
   "cell_type": "code",
   "execution_count": 45,
   "id": "040a301d",
   "metadata": {},
   "outputs": [],
   "source": [
    "# # Plot distribution of target variables after data preprocessing for \n",
    "# fig, axes = plt.subplots(nrows=1, ncols=2, figsize=(18,6), dpi=100)\n",
    "# axes = axes.flatten()\n",
    "\n",
    "# # Data label for classification task\n",
    "# sns.countplot(x=\"target\", data=df_1, ax=axes[0])\n",
    "# axes[0].set_title(\"Distribution of target label: CO2(GT) > mean threshold\")\n",
    "# axes[0].set_xlabel(\"CO2(GT) > mean threshold\")\n",
    "# axes[0].set_ylabel(\"Frequency\")\n",
    "\n",
    "# # Target data for regression task\n",
    "# sns.histplot(df_2[\"target\"], bins=100, kde=True, ax=axes[1])\n",
    "# axes[1].set_title(f\"Distribution of NOx(GT)\")\n",
    "# axes[1].set_xlabel(\"NOx(GT)\")\n",
    "# axes[1].set_ylabel(\"Frequency\")\n",
    "\n",
    "# plt.tight_layout()\n",
    "# plt.show()"
   ]
  },
  {
   "cell_type": "markdown",
   "id": "be049186",
   "metadata": {},
   "source": [
    "### Data normalisation & train-test split"
   ]
  },
  {
   "cell_type": "code",
   "execution_count": 46,
   "id": "8de7d249",
   "metadata": {},
   "outputs": [],
   "source": [
    "def normalised_train_test_split(task, df, test_size=0.2, random_state=0):\n",
    "    \"\"\"\n",
    "    Normalise the given data and split into train, validation and test sets according to the specified test size proportion.\n",
    "    \"\"\"\n",
    "    # Split data into X (features) and y (target)\n",
    "    X = df.drop(\"target\", axis=1)\n",
    "    y = df[\"target\"]\n",
    "    print(f\"Shape of X, y: {X.shape}, {y.shape}\")\n",
    "    \n",
    "    # Normalise features\n",
    "    scaler = StandardScaler()\n",
    "    X = scaler.fit_transform(X)\n",
    "    \n",
    "    # Task 1 split\n",
    "    # Split train, validation, test sets\n",
    "    if task == 1:\n",
    "        X_train, X_test, y_train, y_test = train_test_split(X, y, test_size=test_size, random_state=random_state)\n",
    "        X_train, X_val, y_train, y_val = train_test_split(X_train, y_train, test_size=test_size, random_state=random_state)\n",
    "    # Task 2 split\n",
    "    else: \n",
    "        train_size = int((1 - (test_size)) * len(df))\n",
    "        val_size = int(test_size * train_size)\n",
    "        # Validation set comes from the partitioned train split\n",
    "        train_size -= val_size\n",
    "        test_size = int(test_size * len(df))\n",
    "        \n",
    "        X_train = X[:train_size]\n",
    "        y_train = y[:train_size]\n",
    "        X_val = X[train_size:train_size+val_size]\n",
    "        y_val = y[train_size:train_size+val_size]\n",
    "        X_test = X[train_size+val_size:]\n",
    "        y_test = y[train_size+val_size:]\n",
    "        \n",
    "    return X_train, X_val, X_test, y_train, y_val, y_test"
   ]
  },
  {
   "cell_type": "code",
   "execution_count": 47,
   "id": "8b615e46",
   "metadata": {},
   "outputs": [],
   "source": [
    "# Set parameters for normalisation and train test split\n",
    "test_size=0.2"
   ]
  },
  {
   "cell_type": "markdown",
   "id": "4c77a4f9",
   "metadata": {},
   "source": [
    "#### Classification task"
   ]
  },
  {
   "cell_type": "code",
   "execution_count": 48,
   "id": "7a12da4e",
   "metadata": {},
   "outputs": [
    {
     "name": "stdout",
     "output_type": "stream",
     "text": [
      "Shape of X, y: (8358, 10), (8358,)\n"
     ]
    }
   ],
   "source": [
    "# Classification data\n",
    "X_train1, X_val1, X_test1, y_train1, y_val1, y_test1 = normalised_train_test_split(task=1, df=df_1, test_size=test_size)"
   ]
  },
  {
   "cell_type": "code",
   "execution_count": 49,
   "id": "52edca96",
   "metadata": {},
   "outputs": [
    {
     "name": "stdout",
     "output_type": "stream",
     "text": [
      "Train set shape: (5348, 10), (5348,)\n",
      "Validation set shape: (1338, 10), (1338,)\n",
      "Test set shape: (1672, 10), (1672,)\n"
     ]
    }
   ],
   "source": [
    "print(f\"Train set shape: {X_train1.shape}, {y_train1.shape}\")\n",
    "print(f\"Validation set shape: {X_val1.shape}, {y_val1.shape}\")\n",
    "print(f\"Test set shape: {X_test1.shape}, {y_test1.shape}\")"
   ]
  },
  {
   "cell_type": "markdown",
   "id": "53255b3f",
   "metadata": {},
   "source": [
    "#### Regression task"
   ]
  },
  {
   "cell_type": "code",
   "execution_count": 50,
   "id": "00d3114a",
   "metadata": {},
   "outputs": [
    {
     "name": "stdout",
     "output_type": "stream",
     "text": [
      "Shape of X, y: (8358, 12), (8358,)\n"
     ]
    }
   ],
   "source": [
    "# Regression data\n",
    "X_train2, X_val2, X_test2, y_train2, y_val2, y_test2 = normalised_train_test_split(task=2, df=df_2, test_size=test_size)"
   ]
  },
  {
   "cell_type": "code",
   "execution_count": 51,
   "id": "6dfc8630",
   "metadata": {},
   "outputs": [
    {
     "name": "stdout",
     "output_type": "stream",
     "text": [
      "Train set shape: (5349, 12), (5349,)\n",
      "Validation set shape: (1337, 12), (1337,)\n",
      "Test set shape: (1672, 12), (1672,)\n"
     ]
    }
   ],
   "source": [
    "print(f\"Train set shape: {X_train2.shape}, {y_train2.shape}\")\n",
    "print(f\"Validation set shape: {X_val2.shape}, {y_val2.shape}\")\n",
    "print(f\"Test set shape: {X_test2.shape}, {y_test2.shape}\")"
   ]
  },
  {
   "cell_type": "markdown",
   "id": "65f78cdb",
   "metadata": {},
   "source": [
    "## Classification task with neural network"
   ]
  },
  {
   "cell_type": "markdown",
   "id": "04481e71",
   "metadata": {},
   "source": [
    "### Design of neural network (Baseline classifier)"
   ]
  },
  {
   "cell_type": "code",
   "execution_count": 52,
   "id": "a8d2d376",
   "metadata": {},
   "outputs": [],
   "source": [
    "def define_model(input_shape, num_layers, num_units, activations, loss, metrics, optimizer=\"adam\", dropout_rate=None):\n",
    "    \"\"\"\n",
    "    Define the nueral network according to the specified input dimension, number of layers, number of units per layer, \n",
    "    activation functions across each layer, loss function and metrics, optimisers across each layer and dropout rate.\n",
    "    \"\"\"\n",
    "    # Define a sequential model\n",
    "    model = Sequential()\n",
    "    \n",
    "    # Add layers to the model\n",
    "    # Number of layers does not include input layer\n",
    "    for i in range(num_layers): \n",
    "        # Output layer\n",
    "        if i == num_layers - 1:\n",
    "            model.add(Dense(1, activation=activations[\"output\"]))\n",
    "        # First hidden layer\n",
    "        elif i == 0:\n",
    "            model.add(Dense(num_units, input_shape=input_shape, activation=activations[\"hidden\"]))\n",
    "            num_units //= 2\n",
    "            # Apply dropout for regularisation\n",
    "            if dropout_rate is not None:\n",
    "                model.add(Drop(rate=dropout_level))\n",
    "        # Subsequent hidden layers\n",
    "        else:\n",
    "            model.add(Dense(num_units, activation=activations[\"hidden\"]))\n",
    "            num_units //= 2\n",
    "            # Apply dropout for regularisation\n",
    "            if dropout_rate is not None:\n",
    "                model.add(Drop(rate=dropout_level))\n",
    "    \n",
    "    # Compile the model\n",
    "    model.compile(optimizer=optimizer, loss=loss, metrics=metrics)\n",
    "    return model"
   ]
  },
  {
   "cell_type": "code",
   "execution_count": 53,
   "id": "4025d042",
   "metadata": {},
   "outputs": [],
   "source": [
    "# Define parameters for baseline classifier\n",
    "num_layers1 = 3\n",
    "num_units1 = 16\n",
    "activations1 = {\"hidden\": \"relu\", \"output\": \"sigmoid\"}\n",
    "loss1 = \"binary_crossentropy\"\n",
    "# optimizer1 = \"sgd\"\n",
    "optimizer1 = \"adam\"\n",
    "metrics1 = [\"accuracy\"]"
   ]
  },
  {
   "cell_type": "code",
   "execution_count": 54,
   "id": "da142a74",
   "metadata": {},
   "outputs": [],
   "source": [
    "# # Train the baseline classifier\n",
    "# baseline_classifier = define_model(input_shape=(X_train1.shape[1],),\n",
    "#                                    num_layers=num_layers1, \n",
    "#                                    num_units=num_units1, \n",
    "#                                    activations=activations1,\n",
    "#                                    loss=loss1, \n",
    "#                                    optimizer=optimizer1, \n",
    "#                                    metrics=metrics1)\n",
    "\n",
    "# Set training parameters\n",
    "epochs = 100\n",
    "batch_size = 16\n",
    "\n",
    "# # Train the model\n",
    "# baseline_classifier.fit(X_train1, y_train1, epochs=epochs, batch_size=batch_size)"
   ]
  },
  {
   "cell_type": "code",
   "execution_count": 55,
   "id": "4387e309",
   "metadata": {},
   "outputs": [],
   "source": [
    "# baseline_classifier.summary()"
   ]
  },
  {
   "cell_type": "markdown",
   "id": "c7a712f6",
   "metadata": {},
   "source": [
    "### Hyperparameter-tuning"
   ]
  },
  {
   "cell_type": "markdown",
   "id": "ba1edbbf",
   "metadata": {},
   "source": [
    "Parameters for neural network training including number of units per hidden layer, and optimiser (SGD, Adam) are tuned using a neural network based on the designed baseline model, which has 1 input layer, 2 hidden layers and 1 output layer. The tuned model is trained on 100 epochs, with batch size of 16. "
   ]
  },
  {
   "cell_type": "code",
   "execution_count": 56,
   "id": "359bb7fa",
   "metadata": {},
   "outputs": [],
   "source": [
    "def hp_model(hp, params, input_shape, activations, loss, metrics):\n",
    "    \"\"\" \n",
    "    Define the neural network (1 input layer, 2 hidden layers and 1 output layer) for hyperparameter-tuning.\n",
    "    \"\"\"\n",
    "    # Define a sequential model\n",
    "    model = keras.Sequential()\n",
    "    \n",
    "    # Define number of units for the first hidden layer\n",
    "    num_units_first_hidden_layer = hp.Choice(\"num_units\", params[\"num_units\"])\n",
    "    \n",
    "    # Add first hidden layer\n",
    "    model.add(Dense(units=num_units_first_hidden_layer, \n",
    "                    input_shape=input_shape, \n",
    "                    activation=activations[\"hidden\"]))\n",
    "    \n",
    "    # Add second hidden layer\n",
    "    model.add(Dense(units=num_units_first_hidden_layer // 2, \n",
    "                    input_shape=input_shape, \n",
    "                    activation=activations[\"hidden\"]))\n",
    "    \n",
    "    # Add output layer\n",
    "    model.add(Dense(1, activation=activations[\"output\"]))\n",
    "    # Compile the model\n",
    "    \n",
    "    model.compile(optimizer=hp.Choice(\"optimizer\", params[\"optimizer\"]), loss=loss, metrics=metrics)\n",
    "    return model\n",
    "\n",
    "def build_hp_model1(hp):\n",
    "    \"\"\"\n",
    "    Build hyperparameter-tuning classifier (task 1).\n",
    "    \"\"\"\n",
    "    # Specified input shape\n",
    "    input_shape = (X_train1.shape[1],)\n",
    "\n",
    "    # Hyperparameters to be tuned\n",
    "    params = {\n",
    "        \"num_units\": [16, 32], \n",
    "        \"optimizer\": [\"adam\", \"sgd\"],\n",
    "    }\n",
    "    \n",
    "    # Set fixed model training parameters\n",
    "    activations = {\"hidden\": \"relu\", \"output\": \"sigmoid\"}\n",
    "    loss = \"binary_crossentropy\"\n",
    "    metrics = [\"accuracy\"]\n",
    "    \n",
    "    return hp_model(hp, params, input_shape, activations, loss, metrics)"
   ]
  },
  {
   "cell_type": "code",
   "execution_count": 57,
   "id": "46719bde",
   "metadata": {},
   "outputs": [],
   "source": [
    "def hyperparameter_tuning(task, max_trials=5, executions_per_trial=3, epochs=50, validation_split=0.2):\n",
    "    \"\"\"\n",
    "    Tune hyperparameters for the defined neural network.\n",
    "    \"\"\"\n",
    "    if task == 1:\n",
    "        hypermodel = build_hp_model1\n",
    "        X_train = X_train1\n",
    "        y_train = y_train1\n",
    "    else: \n",
    "        hypermodel = build_hp_model2\n",
    "        X_train = X_train1\n",
    "        y_train = y_train1\n",
    "        \n",
    "    # Tune with random search\n",
    "    rs = RandomSearch(hypermodel=build_hp_model1,\n",
    "                      objective=\"val_accuracy\",\n",
    "                      max_trials=max_trials, # max total number of trials\n",
    "                      executions_per_trial=executions_per_trial,\n",
    "                      directory=\"hp_dir\",\n",
    "                      project_name=f\"t{task}_hp\")\n",
    "    \n",
    "    batch_size = 16\n",
    "    # Hyperparameter tuning using keras tuner random search\n",
    "    rs.search(X_train, y_train, epochs=epochs, batch_size=batch_size, validation_split=validation_split)\n",
    "    \n",
    "    # Get the optimal hyperparameters\n",
    "    best_hps=rs.get_best_hyperparameters(num_trials=1)[0]\n",
    "    \n",
    "    return best_hps"
   ]
  },
  {
   "cell_type": "code",
   "execution_count": 58,
   "id": "423a1228",
   "metadata": {},
   "outputs": [
    {
     "name": "stdout",
     "output_type": "stream",
     "text": [
      "Reloading Tuner from hp_dir\\t1_hp\\tuner0.json\n",
      "32\n",
      "adam\n"
     ]
    }
   ],
   "source": [
    "# Tune number of units per layer and optimiser\n",
    "best_hps1 = hyperparameter_tuning(task=1)\n",
    "\n",
    "print(best_hps1.get(\"num_units\"))\n",
    "print(best_hps1.get(\"optimizer\"))"
   ]
  },
  {
   "cell_type": "markdown",
   "id": "a34dd6ff",
   "metadata": {},
   "source": [
    "### Model training and validation"
   ]
  },
  {
   "cell_type": "code",
   "execution_count": 59,
   "id": "113d4792",
   "metadata": {},
   "outputs": [],
   "source": [
    "def evaluate_model(X_train, y_train, X_val, y_val, num_layers, num_units, activations, loss, optimizer, metrics, epochs, \\\n",
    "                   batch_size):\n",
    "    \"\"\"\n",
    "    Train and evaluate the neural network\n",
    "    \"\"\"\n",
    "    # Define neural network and train the model\n",
    "    model = define_model(input_shape=(X_train.shape[1],), \n",
    "                         num_layers=num_layers, \n",
    "                         num_units=num_units, \n",
    "                         activations=activations,\n",
    "                         loss=loss, \n",
    "                         optimizer=optimizer, \n",
    "                         metrics=metrics)\n",
    "    \n",
    "    history = model.fit(X_train, y_train, epochs=epochs, validation_data=(X_val, y_val))\n",
    "    \n",
    "    # Evaluate the model\n",
    "    train_result = model.evaluate(X_train, y_train)\n",
    "    val_result = model.evaluate(X_val, y_val)\n",
    "    \n",
    "    return model, history, train_result, val_result"
   ]
  },
  {
   "cell_type": "code",
   "execution_count": 60,
   "id": "c117f00d",
   "metadata": {},
   "outputs": [
    {
     "name": "stderr",
     "output_type": "stream",
     "text": [
      "C:\\Users\\wengx\\anaconda3\\Lib\\site-packages\\keras\\src\\layers\\core\\dense.py:86: UserWarning: Do not pass an `input_shape`/`input_dim` argument to a layer. When using Sequential models, prefer using an `Input(shape)` object as the first layer in the model instead.\n",
      "  super().__init__(activity_regularizer=activity_regularizer, **kwargs)\n"
     ]
    },
    {
     "name": "stdout",
     "output_type": "stream",
     "text": [
      "Epoch 1/100\n",
      "\u001b[1m168/168\u001b[0m \u001b[32m━━━━━━━━━━━━━━━━━━━━\u001b[0m\u001b[37m\u001b[0m \u001b[1m3s\u001b[0m 4ms/step - accuracy: 0.6361 - loss: 0.5897 - val_accuracy: 0.8677 - val_loss: 0.3058\n",
      "Epoch 2/100\n",
      "\u001b[1m168/168\u001b[0m \u001b[32m━━━━━━━━━━━━━━━━━━━━\u001b[0m\u001b[37m\u001b[0m \u001b[1m0s\u001b[0m 2ms/step - accuracy: 0.8904 - loss: 0.2752 - val_accuracy: 0.8864 - val_loss: 0.2704\n",
      "Epoch 3/100\n",
      "\u001b[1m168/168\u001b[0m \u001b[32m━━━━━━━━━━━━━━━━━━━━\u001b[0m\u001b[37m\u001b[0m \u001b[1m0s\u001b[0m 2ms/step - accuracy: 0.9040 - loss: 0.2468 - val_accuracy: 0.8924 - val_loss: 0.2609\n",
      "Epoch 4/100\n",
      "\u001b[1m168/168\u001b[0m \u001b[32m━━━━━━━━━━━━━━━━━━━━\u001b[0m\u001b[37m\u001b[0m \u001b[1m0s\u001b[0m 2ms/step - accuracy: 0.9060 - loss: 0.2464 - val_accuracy: 0.8961 - val_loss: 0.2556\n",
      "Epoch 5/100\n",
      "\u001b[1m168/168\u001b[0m \u001b[32m━━━━━━━━━━━━━━━━━━━━\u001b[0m\u001b[37m\u001b[0m \u001b[1m0s\u001b[0m 2ms/step - accuracy: 0.9029 - loss: 0.2477 - val_accuracy: 0.9021 - val_loss: 0.2510\n",
      "Epoch 6/100\n",
      "\u001b[1m168/168\u001b[0m \u001b[32m━━━━━━━━━━━━━━━━━━━━\u001b[0m\u001b[37m\u001b[0m \u001b[1m0s\u001b[0m 2ms/step - accuracy: 0.9099 - loss: 0.2252 - val_accuracy: 0.9036 - val_loss: 0.2466\n",
      "Epoch 7/100\n",
      "\u001b[1m168/168\u001b[0m \u001b[32m━━━━━━━━━━━━━━━━━━━━\u001b[0m\u001b[37m\u001b[0m \u001b[1m1s\u001b[0m 3ms/step - accuracy: 0.9117 - loss: 0.2275 - val_accuracy: 0.9013 - val_loss: 0.2458\n",
      "Epoch 8/100\n",
      "\u001b[1m168/168\u001b[0m \u001b[32m━━━━━━━━━━━━━━━━━━━━\u001b[0m\u001b[37m\u001b[0m \u001b[1m0s\u001b[0m 2ms/step - accuracy: 0.9119 - loss: 0.2296 - val_accuracy: 0.9043 - val_loss: 0.2439\n",
      "Epoch 9/100\n",
      "\u001b[1m168/168\u001b[0m \u001b[32m━━━━━━━━━━━━━━━━━━━━\u001b[0m\u001b[37m\u001b[0m \u001b[1m0s\u001b[0m 2ms/step - accuracy: 0.9088 - loss: 0.2400 - val_accuracy: 0.9028 - val_loss: 0.2397\n",
      "Epoch 10/100\n",
      "\u001b[1m168/168\u001b[0m \u001b[32m━━━━━━━━━━━━━━━━━━━━\u001b[0m\u001b[37m\u001b[0m \u001b[1m0s\u001b[0m 2ms/step - accuracy: 0.9174 - loss: 0.2231 - val_accuracy: 0.9043 - val_loss: 0.2397\n",
      "Epoch 11/100\n",
      "\u001b[1m168/168\u001b[0m \u001b[32m━━━━━━━━━━━━━━━━━━━━\u001b[0m\u001b[37m\u001b[0m \u001b[1m0s\u001b[0m 2ms/step - accuracy: 0.9158 - loss: 0.2269 - val_accuracy: 0.9073 - val_loss: 0.2386\n",
      "Epoch 12/100\n",
      "\u001b[1m168/168\u001b[0m \u001b[32m━━━━━━━━━━━━━━━━━━━━\u001b[0m\u001b[37m\u001b[0m \u001b[1m0s\u001b[0m 2ms/step - accuracy: 0.9158 - loss: 0.2223 - val_accuracy: 0.9073 - val_loss: 0.2395\n",
      "Epoch 13/100\n",
      "\u001b[1m168/168\u001b[0m \u001b[32m━━━━━━━━━━━━━━━━━━━━\u001b[0m\u001b[37m\u001b[0m \u001b[1m1s\u001b[0m 3ms/step - accuracy: 0.9184 - loss: 0.2144 - val_accuracy: 0.9088 - val_loss: 0.2356\n",
      "Epoch 14/100\n",
      "\u001b[1m168/168\u001b[0m \u001b[32m━━━━━━━━━━━━━━━━━━━━\u001b[0m\u001b[37m\u001b[0m \u001b[1m0s\u001b[0m 2ms/step - accuracy: 0.9193 - loss: 0.2192 - val_accuracy: 0.9058 - val_loss: 0.2335\n",
      "Epoch 15/100\n",
      "\u001b[1m168/168\u001b[0m \u001b[32m━━━━━━━━━━━━━━━━━━━━\u001b[0m\u001b[37m\u001b[0m \u001b[1m0s\u001b[0m 2ms/step - accuracy: 0.9169 - loss: 0.2170 - val_accuracy: 0.9066 - val_loss: 0.2328\n",
      "Epoch 16/100\n",
      "\u001b[1m168/168\u001b[0m \u001b[32m━━━━━━━━━━━━━━━━━━━━\u001b[0m\u001b[37m\u001b[0m \u001b[1m1s\u001b[0m 3ms/step - accuracy: 0.9182 - loss: 0.2083 - val_accuracy: 0.9111 - val_loss: 0.2308\n",
      "Epoch 17/100\n",
      "\u001b[1m168/168\u001b[0m \u001b[32m━━━━━━━━━━━━━━━━━━━━\u001b[0m\u001b[37m\u001b[0m \u001b[1m0s\u001b[0m 2ms/step - accuracy: 0.9183 - loss: 0.2150 - val_accuracy: 0.9133 - val_loss: 0.2339\n",
      "Epoch 18/100\n",
      "\u001b[1m168/168\u001b[0m \u001b[32m━━━━━━━━━━━━━━━━━━━━\u001b[0m\u001b[37m\u001b[0m \u001b[1m0s\u001b[0m 3ms/step - accuracy: 0.9240 - loss: 0.2044 - val_accuracy: 0.9096 - val_loss: 0.2309\n",
      "Epoch 19/100\n",
      "\u001b[1m168/168\u001b[0m \u001b[32m━━━━━━━━━━━━━━━━━━━━\u001b[0m\u001b[37m\u001b[0m \u001b[1m1s\u001b[0m 3ms/step - accuracy: 0.9212 - loss: 0.2044 - val_accuracy: 0.9148 - val_loss: 0.2302\n",
      "Epoch 20/100\n",
      "\u001b[1m168/168\u001b[0m \u001b[32m━━━━━━━━━━━━━━━━━━━━\u001b[0m\u001b[37m\u001b[0m \u001b[1m0s\u001b[0m 2ms/step - accuracy: 0.9249 - loss: 0.2052 - val_accuracy: 0.9126 - val_loss: 0.2284\n",
      "Epoch 21/100\n",
      "\u001b[1m168/168\u001b[0m \u001b[32m━━━━━━━━━━━━━━━━━━━━\u001b[0m\u001b[37m\u001b[0m \u001b[1m0s\u001b[0m 2ms/step - accuracy: 0.9244 - loss: 0.1958 - val_accuracy: 0.9111 - val_loss: 0.2285\n",
      "Epoch 22/100\n",
      "\u001b[1m168/168\u001b[0m \u001b[32m━━━━━━━━━━━━━━━━━━━━\u001b[0m\u001b[37m\u001b[0m \u001b[1m1s\u001b[0m 3ms/step - accuracy: 0.9204 - loss: 0.2085 - val_accuracy: 0.9103 - val_loss: 0.2293\n",
      "Epoch 23/100\n",
      "\u001b[1m168/168\u001b[0m \u001b[32m━━━━━━━━━━━━━━━━━━━━\u001b[0m\u001b[37m\u001b[0m \u001b[1m0s\u001b[0m 2ms/step - accuracy: 0.9228 - loss: 0.2016 - val_accuracy: 0.9058 - val_loss: 0.2267\n",
      "Epoch 24/100\n",
      "\u001b[1m168/168\u001b[0m \u001b[32m━━━━━━━━━━━━━━━━━━━━\u001b[0m\u001b[37m\u001b[0m \u001b[1m0s\u001b[0m 3ms/step - accuracy: 0.9205 - loss: 0.2043 - val_accuracy: 0.9066 - val_loss: 0.2258\n",
      "Epoch 25/100\n",
      "\u001b[1m168/168\u001b[0m \u001b[32m━━━━━━━━━━━━━━━━━━━━\u001b[0m\u001b[37m\u001b[0m \u001b[1m1s\u001b[0m 3ms/step - accuracy: 0.9222 - loss: 0.2021 - val_accuracy: 0.9066 - val_loss: 0.2352\n",
      "Epoch 26/100\n",
      "\u001b[1m168/168\u001b[0m \u001b[32m━━━━━━━━━━━━━━━━━━━━\u001b[0m\u001b[37m\u001b[0m \u001b[1m0s\u001b[0m 2ms/step - accuracy: 0.9158 - loss: 0.2046 - val_accuracy: 0.9126 - val_loss: 0.2259\n",
      "Epoch 27/100\n",
      "\u001b[1m168/168\u001b[0m \u001b[32m━━━━━━━━━━━━━━━━━━━━\u001b[0m\u001b[37m\u001b[0m \u001b[1m0s\u001b[0m 2ms/step - accuracy: 0.9243 - loss: 0.1938 - val_accuracy: 0.9111 - val_loss: 0.2252\n",
      "Epoch 28/100\n",
      "\u001b[1m168/168\u001b[0m \u001b[32m━━━━━━━━━━━━━━━━━━━━\u001b[0m\u001b[37m\u001b[0m \u001b[1m1s\u001b[0m 3ms/step - accuracy: 0.9192 - loss: 0.2068 - val_accuracy: 0.9096 - val_loss: 0.2263\n",
      "Epoch 29/100\n",
      "\u001b[1m168/168\u001b[0m \u001b[32m━━━━━━━━━━━━━━━━━━━━\u001b[0m\u001b[37m\u001b[0m \u001b[1m0s\u001b[0m 2ms/step - accuracy: 0.9241 - loss: 0.1875 - val_accuracy: 0.9066 - val_loss: 0.2248\n",
      "Epoch 30/100\n",
      "\u001b[1m168/168\u001b[0m \u001b[32m━━━━━━━━━━━━━━━━━━━━\u001b[0m\u001b[37m\u001b[0m \u001b[1m1s\u001b[0m 3ms/step - accuracy: 0.9196 - loss: 0.1936 - val_accuracy: 0.9111 - val_loss: 0.2250\n",
      "Epoch 31/100\n",
      "\u001b[1m168/168\u001b[0m \u001b[32m━━━━━━━━━━━━━━━━━━━━\u001b[0m\u001b[37m\u001b[0m \u001b[1m0s\u001b[0m 2ms/step - accuracy: 0.9226 - loss: 0.1965 - val_accuracy: 0.9073 - val_loss: 0.2270\n",
      "Epoch 32/100\n",
      "\u001b[1m168/168\u001b[0m \u001b[32m━━━━━━━━━━━━━━━━━━━━\u001b[0m\u001b[37m\u001b[0m \u001b[1m0s\u001b[0m 2ms/step - accuracy: 0.9208 - loss: 0.1936 - val_accuracy: 0.9103 - val_loss: 0.2266\n",
      "Epoch 33/100\n",
      "\u001b[1m168/168\u001b[0m \u001b[32m━━━━━━━━━━━━━━━━━━━━\u001b[0m\u001b[37m\u001b[0m \u001b[1m1s\u001b[0m 3ms/step - accuracy: 0.9260 - loss: 0.1923 - val_accuracy: 0.9066 - val_loss: 0.2260\n",
      "Epoch 34/100\n",
      "\u001b[1m168/168\u001b[0m \u001b[32m━━━━━━━━━━━━━━━━━━━━\u001b[0m\u001b[37m\u001b[0m \u001b[1m1s\u001b[0m 2ms/step - accuracy: 0.9231 - loss: 0.1931 - val_accuracy: 0.9111 - val_loss: 0.2253\n",
      "Epoch 35/100\n",
      "\u001b[1m168/168\u001b[0m \u001b[32m━━━━━━━━━━━━━━━━━━━━\u001b[0m\u001b[37m\u001b[0m \u001b[1m0s\u001b[0m 2ms/step - accuracy: 0.9322 - loss: 0.1763 - val_accuracy: 0.9073 - val_loss: 0.2268\n",
      "Epoch 36/100\n",
      "\u001b[1m168/168\u001b[0m \u001b[32m━━━━━━━━━━━━━━━━━━━━\u001b[0m\u001b[37m\u001b[0m \u001b[1m0s\u001b[0m 2ms/step - accuracy: 0.9231 - loss: 0.1945 - val_accuracy: 0.9066 - val_loss: 0.2236\n",
      "Epoch 37/100\n",
      "\u001b[1m168/168\u001b[0m \u001b[32m━━━━━━━━━━━━━━━━━━━━\u001b[0m\u001b[37m\u001b[0m \u001b[1m0s\u001b[0m 2ms/step - accuracy: 0.9272 - loss: 0.1928 - val_accuracy: 0.9081 - val_loss: 0.2238\n",
      "Epoch 38/100\n",
      "\u001b[1m168/168\u001b[0m \u001b[32m━━━━━━━━━━━━━━━━━━━━\u001b[0m\u001b[37m\u001b[0m \u001b[1m0s\u001b[0m 2ms/step - accuracy: 0.9332 - loss: 0.1766 - val_accuracy: 0.9073 - val_loss: 0.2238\n",
      "Epoch 39/100\n",
      "\u001b[1m168/168\u001b[0m \u001b[32m━━━━━━━━━━━━━━━━━━━━\u001b[0m\u001b[37m\u001b[0m \u001b[1m0s\u001b[0m 2ms/step - accuracy: 0.9233 - loss: 0.1887 - val_accuracy: 0.9073 - val_loss: 0.2280\n",
      "Epoch 40/100\n",
      "\u001b[1m168/168\u001b[0m \u001b[32m━━━━━━━━━━━━━━━━━━━━\u001b[0m\u001b[37m\u001b[0m \u001b[1m0s\u001b[0m 2ms/step - accuracy: 0.9252 - loss: 0.1859 - val_accuracy: 0.9096 - val_loss: 0.2229\n",
      "Epoch 41/100\n",
      "\u001b[1m168/168\u001b[0m \u001b[32m━━━━━━━━━━━━━━━━━━━━\u001b[0m\u001b[37m\u001b[0m \u001b[1m0s\u001b[0m 2ms/step - accuracy: 0.9235 - loss: 0.1854 - val_accuracy: 0.9073 - val_loss: 0.2224\n",
      "Epoch 42/100\n",
      "\u001b[1m168/168\u001b[0m \u001b[32m━━━━━━━━━━━━━━━━━━━━\u001b[0m\u001b[37m\u001b[0m \u001b[1m0s\u001b[0m 3ms/step - accuracy: 0.9289 - loss: 0.1820 - val_accuracy: 0.9036 - val_loss: 0.2244\n",
      "Epoch 43/100\n",
      "\u001b[1m168/168\u001b[0m \u001b[32m━━━━━━━━━━━━━━━━━━━━\u001b[0m\u001b[37m\u001b[0m \u001b[1m0s\u001b[0m 3ms/step - accuracy: 0.9275 - loss: 0.1841 - val_accuracy: 0.9096 - val_loss: 0.2227\n",
      "Epoch 44/100\n",
      "\u001b[1m168/168\u001b[0m \u001b[32m━━━━━━━━━━━━━━━━━━━━\u001b[0m\u001b[37m\u001b[0m \u001b[1m0s\u001b[0m 2ms/step - accuracy: 0.9239 - loss: 0.1914 - val_accuracy: 0.9073 - val_loss: 0.2250\n",
      "Epoch 45/100\n",
      "\u001b[1m168/168\u001b[0m \u001b[32m━━━━━━━━━━━━━━━━━━━━\u001b[0m\u001b[37m\u001b[0m \u001b[1m0s\u001b[0m 2ms/step - accuracy: 0.9265 - loss: 0.1806 - val_accuracy: 0.9073 - val_loss: 0.2282\n",
      "Epoch 46/100\n",
      "\u001b[1m168/168\u001b[0m \u001b[32m━━━━━━━━━━━━━━━━━━━━\u001b[0m\u001b[37m\u001b[0m \u001b[1m1s\u001b[0m 3ms/step - accuracy: 0.9251 - loss: 0.1874 - val_accuracy: 0.9043 - val_loss: 0.2248\n",
      "Epoch 47/100\n",
      "\u001b[1m168/168\u001b[0m \u001b[32m━━━━━━━━━━━━━━━━━━━━\u001b[0m\u001b[37m\u001b[0m \u001b[1m1s\u001b[0m 3ms/step - accuracy: 0.9225 - loss: 0.1958 - val_accuracy: 0.9073 - val_loss: 0.2221\n",
      "Epoch 48/100\n",
      "\u001b[1m168/168\u001b[0m \u001b[32m━━━━━━━━━━━━━━━━━━━━\u001b[0m\u001b[37m\u001b[0m \u001b[1m0s\u001b[0m 2ms/step - accuracy: 0.9302 - loss: 0.1771 - val_accuracy: 0.9066 - val_loss: 0.2220\n",
      "Epoch 49/100\n",
      "\u001b[1m168/168\u001b[0m \u001b[32m━━━━━━━━━━━━━━━━━━━━\u001b[0m\u001b[37m\u001b[0m \u001b[1m0s\u001b[0m 3ms/step - accuracy: 0.9266 - loss: 0.1840 - val_accuracy: 0.9066 - val_loss: 0.2266\n",
      "Epoch 50/100\n",
      "\u001b[1m168/168\u001b[0m \u001b[32m━━━━━━━━━━━━━━━━━━━━\u001b[0m\u001b[37m\u001b[0m \u001b[1m0s\u001b[0m 2ms/step - accuracy: 0.9300 - loss: 0.1749 - val_accuracy: 0.9088 - val_loss: 0.2224\n",
      "Epoch 51/100\n"
     ]
    },
    {
     "name": "stdout",
     "output_type": "stream",
     "text": [
      "\u001b[1m168/168\u001b[0m \u001b[32m━━━━━━━━━━━━━━━━━━━━\u001b[0m\u001b[37m\u001b[0m \u001b[1m0s\u001b[0m 2ms/step - accuracy: 0.9258 - loss: 0.1797 - val_accuracy: 0.9066 - val_loss: 0.2209\n",
      "Epoch 52/100\n",
      "\u001b[1m168/168\u001b[0m \u001b[32m━━━━━━━━━━━━━━━━━━━━\u001b[0m\u001b[37m\u001b[0m \u001b[1m1s\u001b[0m 2ms/step - accuracy: 0.9243 - loss: 0.1853 - val_accuracy: 0.9103 - val_loss: 0.2210\n",
      "Epoch 53/100\n",
      "\u001b[1m168/168\u001b[0m \u001b[32m━━━━━━━━━━━━━━━━━━━━\u001b[0m\u001b[37m\u001b[0m \u001b[1m1s\u001b[0m 2ms/step - accuracy: 0.9327 - loss: 0.1710 - val_accuracy: 0.9096 - val_loss: 0.2235\n",
      "Epoch 54/100\n",
      "\u001b[1m168/168\u001b[0m \u001b[32m━━━━━━━━━━━━━━━━━━━━\u001b[0m\u001b[37m\u001b[0m \u001b[1m0s\u001b[0m 2ms/step - accuracy: 0.9293 - loss: 0.1808 - val_accuracy: 0.9081 - val_loss: 0.2223\n",
      "Epoch 55/100\n",
      "\u001b[1m168/168\u001b[0m \u001b[32m━━━━━━━━━━━━━━━━━━━━\u001b[0m\u001b[37m\u001b[0m \u001b[1m1s\u001b[0m 2ms/step - accuracy: 0.9263 - loss: 0.1799 - val_accuracy: 0.9081 - val_loss: 0.2193\n",
      "Epoch 56/100\n",
      "\u001b[1m168/168\u001b[0m \u001b[32m━━━━━━━━━━━━━━━━━━━━\u001b[0m\u001b[37m\u001b[0m \u001b[1m0s\u001b[0m 2ms/step - accuracy: 0.9316 - loss: 0.1717 - val_accuracy: 0.9088 - val_loss: 0.2216\n",
      "Epoch 57/100\n",
      "\u001b[1m168/168\u001b[0m \u001b[32m━━━━━━━━━━━━━━━━━━━━\u001b[0m\u001b[37m\u001b[0m \u001b[1m0s\u001b[0m 2ms/step - accuracy: 0.9298 - loss: 0.1717 - val_accuracy: 0.9096 - val_loss: 0.2222\n",
      "Epoch 58/100\n",
      "\u001b[1m168/168\u001b[0m \u001b[32m━━━━━━━━━━━━━━━━━━━━\u001b[0m\u001b[37m\u001b[0m \u001b[1m1s\u001b[0m 2ms/step - accuracy: 0.9319 - loss: 0.1703 - val_accuracy: 0.9081 - val_loss: 0.2202\n",
      "Epoch 59/100\n",
      "\u001b[1m168/168\u001b[0m \u001b[32m━━━━━━━━━━━━━━━━━━━━\u001b[0m\u001b[37m\u001b[0m \u001b[1m0s\u001b[0m 2ms/step - accuracy: 0.9289 - loss: 0.1788 - val_accuracy: 0.9088 - val_loss: 0.2239\n",
      "Epoch 60/100\n",
      "\u001b[1m168/168\u001b[0m \u001b[32m━━━━━━━━━━━━━━━━━━━━\u001b[0m\u001b[37m\u001b[0m \u001b[1m1s\u001b[0m 2ms/step - accuracy: 0.9291 - loss: 0.1813 - val_accuracy: 0.9111 - val_loss: 0.2210\n",
      "Epoch 61/100\n",
      "\u001b[1m168/168\u001b[0m \u001b[32m━━━━━━━━━━━━━━━━━━━━\u001b[0m\u001b[37m\u001b[0m \u001b[1m0s\u001b[0m 2ms/step - accuracy: 0.9298 - loss: 0.1820 - val_accuracy: 0.9096 - val_loss: 0.2205\n",
      "Epoch 62/100\n",
      "\u001b[1m168/168\u001b[0m \u001b[32m━━━━━━━━━━━━━━━━━━━━\u001b[0m\u001b[37m\u001b[0m \u001b[1m0s\u001b[0m 2ms/step - accuracy: 0.9281 - loss: 0.1805 - val_accuracy: 0.9111 - val_loss: 0.2250\n",
      "Epoch 63/100\n",
      "\u001b[1m168/168\u001b[0m \u001b[32m━━━━━━━━━━━━━━━━━━━━\u001b[0m\u001b[37m\u001b[0m \u001b[1m1s\u001b[0m 3ms/step - accuracy: 0.9256 - loss: 0.1891 - val_accuracy: 0.9066 - val_loss: 0.2251\n",
      "Epoch 64/100\n",
      "\u001b[1m168/168\u001b[0m \u001b[32m━━━━━━━━━━━━━━━━━━━━\u001b[0m\u001b[37m\u001b[0m \u001b[1m1s\u001b[0m 2ms/step - accuracy: 0.9230 - loss: 0.1882 - val_accuracy: 0.9088 - val_loss: 0.2280\n",
      "Epoch 65/100\n",
      "\u001b[1m168/168\u001b[0m \u001b[32m━━━━━━━━━━━━━━━━━━━━\u001b[0m\u001b[37m\u001b[0m \u001b[1m0s\u001b[0m 2ms/step - accuracy: 0.9266 - loss: 0.1888 - val_accuracy: 0.9118 - val_loss: 0.2308\n",
      "Epoch 66/100\n",
      "\u001b[1m168/168\u001b[0m \u001b[32m━━━━━━━━━━━━━━━━━━━━\u001b[0m\u001b[37m\u001b[0m \u001b[1m1s\u001b[0m 3ms/step - accuracy: 0.9212 - loss: 0.1869 - val_accuracy: 0.9103 - val_loss: 0.2233\n",
      "Epoch 67/100\n",
      "\u001b[1m168/168\u001b[0m \u001b[32m━━━━━━━━━━━━━━━━━━━━\u001b[0m\u001b[37m\u001b[0m \u001b[1m0s\u001b[0m 2ms/step - accuracy: 0.9326 - loss: 0.1666 - val_accuracy: 0.9096 - val_loss: 0.2284\n",
      "Epoch 68/100\n",
      "\u001b[1m168/168\u001b[0m \u001b[32m━━━━━━━━━━━━━━━━━━━━\u001b[0m\u001b[37m\u001b[0m \u001b[1m1s\u001b[0m 2ms/step - accuracy: 0.9252 - loss: 0.1886 - val_accuracy: 0.9073 - val_loss: 0.2317\n",
      "Epoch 69/100\n",
      "\u001b[1m168/168\u001b[0m \u001b[32m━━━━━━━━━━━━━━━━━━━━\u001b[0m\u001b[37m\u001b[0m \u001b[1m1s\u001b[0m 2ms/step - accuracy: 0.9307 - loss: 0.1754 - val_accuracy: 0.9111 - val_loss: 0.2207\n",
      "Epoch 70/100\n",
      "\u001b[1m168/168\u001b[0m \u001b[32m━━━━━━━━━━━━━━━━━━━━\u001b[0m\u001b[37m\u001b[0m \u001b[1m0s\u001b[0m 2ms/step - accuracy: 0.9354 - loss: 0.1712 - val_accuracy: 0.9081 - val_loss: 0.2265\n",
      "Epoch 71/100\n",
      "\u001b[1m168/168\u001b[0m \u001b[32m━━━━━━━━━━━━━━━━━━━━\u001b[0m\u001b[37m\u001b[0m \u001b[1m0s\u001b[0m 2ms/step - accuracy: 0.9298 - loss: 0.1813 - val_accuracy: 0.9118 - val_loss: 0.2204\n",
      "Epoch 72/100\n",
      "\u001b[1m168/168\u001b[0m \u001b[32m━━━━━━━━━━━━━━━━━━━━\u001b[0m\u001b[37m\u001b[0m \u001b[1m1s\u001b[0m 2ms/step - accuracy: 0.9327 - loss: 0.1782 - val_accuracy: 0.9103 - val_loss: 0.2216\n",
      "Epoch 73/100\n",
      "\u001b[1m168/168\u001b[0m \u001b[32m━━━━━━━━━━━━━━━━━━━━\u001b[0m\u001b[37m\u001b[0m \u001b[1m0s\u001b[0m 2ms/step - accuracy: 0.9304 - loss: 0.1736 - val_accuracy: 0.9096 - val_loss: 0.2235\n",
      "Epoch 74/100\n",
      "\u001b[1m168/168\u001b[0m \u001b[32m━━━━━━━━━━━━━━━━━━━━\u001b[0m\u001b[37m\u001b[0m \u001b[1m0s\u001b[0m 3ms/step - accuracy: 0.9194 - loss: 0.1906 - val_accuracy: 0.9126 - val_loss: 0.2236\n",
      "Epoch 75/100\n",
      "\u001b[1m168/168\u001b[0m \u001b[32m━━━━━━━━━━━━━━━━━━━━\u001b[0m\u001b[37m\u001b[0m \u001b[1m0s\u001b[0m 2ms/step - accuracy: 0.9282 - loss: 0.1821 - val_accuracy: 0.9088 - val_loss: 0.2233\n",
      "Epoch 76/100\n",
      "\u001b[1m168/168\u001b[0m \u001b[32m━━━━━━━━━━━━━━━━━━━━\u001b[0m\u001b[37m\u001b[0m \u001b[1m0s\u001b[0m 2ms/step - accuracy: 0.9373 - loss: 0.1652 - val_accuracy: 0.9103 - val_loss: 0.2247\n",
      "Epoch 77/100\n",
      "\u001b[1m168/168\u001b[0m \u001b[32m━━━━━━━━━━━━━━━━━━━━\u001b[0m\u001b[37m\u001b[0m \u001b[1m1s\u001b[0m 3ms/step - accuracy: 0.9349 - loss: 0.1668 - val_accuracy: 0.9081 - val_loss: 0.2205\n",
      "Epoch 78/100\n",
      "\u001b[1m168/168\u001b[0m \u001b[32m━━━━━━━━━━━━━━━━━━━━\u001b[0m\u001b[37m\u001b[0m \u001b[1m1s\u001b[0m 3ms/step - accuracy: 0.9314 - loss: 0.1743 - val_accuracy: 0.9103 - val_loss: 0.2216\n",
      "Epoch 79/100\n",
      "\u001b[1m168/168\u001b[0m \u001b[32m━━━━━━━━━━━━━━━━━━━━\u001b[0m\u001b[37m\u001b[0m \u001b[1m1s\u001b[0m 3ms/step - accuracy: 0.9369 - loss: 0.1687 - val_accuracy: 0.9126 - val_loss: 0.2211\n",
      "Epoch 80/100\n",
      "\u001b[1m168/168\u001b[0m \u001b[32m━━━━━━━━━━━━━━━━━━━━\u001b[0m\u001b[37m\u001b[0m \u001b[1m0s\u001b[0m 3ms/step - accuracy: 0.9310 - loss: 0.1706 - val_accuracy: 0.9126 - val_loss: 0.2218\n",
      "Epoch 81/100\n",
      "\u001b[1m168/168\u001b[0m \u001b[32m━━━━━━━━━━━━━━━━━━━━\u001b[0m\u001b[37m\u001b[0m \u001b[1m0s\u001b[0m 2ms/step - accuracy: 0.9343 - loss: 0.1697 - val_accuracy: 0.9111 - val_loss: 0.2277\n",
      "Epoch 82/100\n",
      "\u001b[1m168/168\u001b[0m \u001b[32m━━━━━━━━━━━━━━━━━━━━\u001b[0m\u001b[37m\u001b[0m \u001b[1m0s\u001b[0m 2ms/step - accuracy: 0.9346 - loss: 0.1701 - val_accuracy: 0.9096 - val_loss: 0.2217\n",
      "Epoch 83/100\n",
      "\u001b[1m168/168\u001b[0m \u001b[32m━━━━━━━━━━━━━━━━━━━━\u001b[0m\u001b[37m\u001b[0m \u001b[1m1s\u001b[0m 3ms/step - accuracy: 0.9310 - loss: 0.1768 - val_accuracy: 0.9096 - val_loss: 0.2258\n",
      "Epoch 84/100\n",
      "\u001b[1m168/168\u001b[0m \u001b[32m━━━━━━━━━━━━━━━━━━━━\u001b[0m\u001b[37m\u001b[0m \u001b[1m0s\u001b[0m 2ms/step - accuracy: 0.9295 - loss: 0.1824 - val_accuracy: 0.9133 - val_loss: 0.2270\n",
      "Epoch 85/100\n",
      "\u001b[1m168/168\u001b[0m \u001b[32m━━━━━━━━━━━━━━━━━━━━\u001b[0m\u001b[37m\u001b[0m \u001b[1m0s\u001b[0m 2ms/step - accuracy: 0.9425 - loss: 0.1541 - val_accuracy: 0.9088 - val_loss: 0.2268\n",
      "Epoch 86/100\n",
      "\u001b[1m168/168\u001b[0m \u001b[32m━━━━━━━━━━━━━━━━━━━━\u001b[0m\u001b[37m\u001b[0m \u001b[1m0s\u001b[0m 3ms/step - accuracy: 0.9360 - loss: 0.1678 - val_accuracy: 0.9066 - val_loss: 0.2224\n",
      "Epoch 87/100\n",
      "\u001b[1m168/168\u001b[0m \u001b[32m━━━━━━━━━━━━━━━━━━━━\u001b[0m\u001b[37m\u001b[0m \u001b[1m0s\u001b[0m 2ms/step - accuracy: 0.9279 - loss: 0.1772 - val_accuracy: 0.9058 - val_loss: 0.2236\n",
      "Epoch 88/100\n",
      "\u001b[1m168/168\u001b[0m \u001b[32m━━━━━━━━━━━━━━━━━━━━\u001b[0m\u001b[37m\u001b[0m \u001b[1m1s\u001b[0m 3ms/step - accuracy: 0.9305 - loss: 0.1747 - val_accuracy: 0.9111 - val_loss: 0.2232\n",
      "Epoch 89/100\n",
      "\u001b[1m168/168\u001b[0m \u001b[32m━━━━━━━━━━━━━━━━━━━━\u001b[0m\u001b[37m\u001b[0m \u001b[1m1s\u001b[0m 3ms/step - accuracy: 0.9325 - loss: 0.1770 - val_accuracy: 0.9103 - val_loss: 0.2230\n",
      "Epoch 90/100\n",
      "\u001b[1m168/168\u001b[0m \u001b[32m━━━━━━━━━━━━━━━━━━━━\u001b[0m\u001b[37m\u001b[0m \u001b[1m0s\u001b[0m 3ms/step - accuracy: 0.9317 - loss: 0.1703 - val_accuracy: 0.9133 - val_loss: 0.2235\n",
      "Epoch 91/100\n",
      "\u001b[1m168/168\u001b[0m \u001b[32m━━━━━━━━━━━━━━━━━━━━\u001b[0m\u001b[37m\u001b[0m \u001b[1m1s\u001b[0m 3ms/step - accuracy: 0.9312 - loss: 0.1706 - val_accuracy: 0.9103 - val_loss: 0.2249\n",
      "Epoch 92/100\n",
      "\u001b[1m168/168\u001b[0m \u001b[32m━━━━━━━━━━━━━━━━━━━━\u001b[0m\u001b[37m\u001b[0m \u001b[1m1s\u001b[0m 3ms/step - accuracy: 0.9335 - loss: 0.1680 - val_accuracy: 0.9096 - val_loss: 0.2288\n",
      "Epoch 93/100\n",
      "\u001b[1m168/168\u001b[0m \u001b[32m━━━━━━━━━━━━━━━━━━━━\u001b[0m\u001b[37m\u001b[0m \u001b[1m0s\u001b[0m 3ms/step - accuracy: 0.9329 - loss: 0.1671 - val_accuracy: 0.9141 - val_loss: 0.2243\n",
      "Epoch 94/100\n",
      "\u001b[1m168/168\u001b[0m \u001b[32m━━━━━━━━━━━━━━━━━━━━\u001b[0m\u001b[37m\u001b[0m \u001b[1m1s\u001b[0m 3ms/step - accuracy: 0.9323 - loss: 0.1772 - val_accuracy: 0.9103 - val_loss: 0.2300\n",
      "Epoch 95/100\n",
      "\u001b[1m168/168\u001b[0m \u001b[32m━━━━━━━━━━━━━━━━━━━━\u001b[0m\u001b[37m\u001b[0m \u001b[1m0s\u001b[0m 2ms/step - accuracy: 0.9367 - loss: 0.1656 - val_accuracy: 0.9133 - val_loss: 0.2253\n",
      "Epoch 96/100\n",
      "\u001b[1m168/168\u001b[0m \u001b[32m━━━━━━━━━━━━━━━━━━━━\u001b[0m\u001b[37m\u001b[0m \u001b[1m0s\u001b[0m 2ms/step - accuracy: 0.9374 - loss: 0.1654 - val_accuracy: 0.9103 - val_loss: 0.2244\n",
      "Epoch 97/100\n",
      "\u001b[1m168/168\u001b[0m \u001b[32m━━━━━━━━━━━━━━━━━━━━\u001b[0m\u001b[37m\u001b[0m \u001b[1m0s\u001b[0m 2ms/step - accuracy: 0.9377 - loss: 0.1612 - val_accuracy: 0.9133 - val_loss: 0.2244\n",
      "Epoch 98/100\n",
      "\u001b[1m168/168\u001b[0m \u001b[32m━━━━━━━━━━━━━━━━━━━━\u001b[0m\u001b[37m\u001b[0m \u001b[1m1s\u001b[0m 3ms/step - accuracy: 0.9395 - loss: 0.1636 - val_accuracy: 0.9088 - val_loss: 0.2286\n",
      "Epoch 99/100\n",
      "\u001b[1m168/168\u001b[0m \u001b[32m━━━━━━━━━━━━━━━━━━━━\u001b[0m\u001b[37m\u001b[0m \u001b[1m0s\u001b[0m 2ms/step - accuracy: 0.9310 - loss: 0.1680 - val_accuracy: 0.9081 - val_loss: 0.2217\n",
      "Epoch 100/100\n",
      "\u001b[1m168/168\u001b[0m \u001b[32m━━━━━━━━━━━━━━━━━━━━\u001b[0m\u001b[37m\u001b[0m \u001b[1m1s\u001b[0m 3ms/step - accuracy: 0.9321 - loss: 0.1743 - val_accuracy: 0.9081 - val_loss: 0.2274\n"
     ]
    },
    {
     "name": "stdout",
     "output_type": "stream",
     "text": [
      "\u001b[1m168/168\u001b[0m \u001b[32m━━━━━━━━━━━━━━━━━━━━\u001b[0m\u001b[37m\u001b[0m \u001b[1m0s\u001b[0m 2ms/step - accuracy: 0.9375 - loss: 0.1651\n",
      "\u001b[1m42/42\u001b[0m \u001b[32m━━━━━━━━━━━━━━━━━━━━\u001b[0m\u001b[37m\u001b[0m \u001b[1m0s\u001b[0m 2ms/step - accuracy: 0.9111 - loss: 0.2093\n"
     ]
    }
   ],
   "source": [
    "# Train and validate the model using tuned parameters\n",
    "# Minus 2 to fulfil the condition: # parameters < (# samples / 10) - prevent overfitting\n",
    "num_units1 = best_hps1.get(\"num_units\") - 2\n",
    "optimizer1 = best_hps1.get(\"optimizer\")\n",
    "\n",
    "model1, history1, train_result1, val_result1 = evaluate_model(X_train=X_train1, \n",
    "                                                            y_train=y_train1, \n",
    "                                                            X_val=X_val1, \n",
    "                                                            y_val=y_val1, \n",
    "                                                            num_layers=num_layers1, \n",
    "                                                            num_units=num_units1, \n",
    "                                                            activations=activations1,\n",
    "                                                            loss=loss1, \n",
    "                                                            optimizer=optimizer1, \n",
    "                                                            metrics=metrics1,\n",
    "                                                            epochs=epochs, \n",
    "                                                            batch_size=batch_size) "
   ]
  },
  {
   "cell_type": "code",
   "execution_count": 61,
   "id": "95c4de54",
   "metadata": {},
   "outputs": [
    {
     "name": "stdout",
     "output_type": "stream",
     "text": [
      "Train accuracy: 0.9371727705001831\n",
      "Validation accuracy: 0.908071756362915\n"
     ]
    }
   ],
   "source": [
    "_, train_acc1 = train_result1\n",
    "_, val_acc1 = val_result1\n",
    "\n",
    "print(f\"Train accuracy: {train_acc1}\")\n",
    "print(f\"Validation accuracy: {val_acc1}\")"
   ]
  },
  {
   "cell_type": "code",
   "execution_count": 62,
   "id": "0ba12286",
   "metadata": {},
   "outputs": [
    {
     "data": {
      "text/html": [
       "<pre style=\"white-space:pre;overflow-x:auto;line-height:normal;font-family:Menlo,'DejaVu Sans Mono',consolas,'Courier New',monospace\"><span style=\"font-weight: bold\">Model: \"sequential\"</span>\n",
       "</pre>\n"
      ],
      "text/plain": [
       "\u001b[1mModel: \"sequential\"\u001b[0m\n"
      ]
     },
     "metadata": {},
     "output_type": "display_data"
    },
    {
     "data": {
      "text/html": [
       "<pre style=\"white-space:pre;overflow-x:auto;line-height:normal;font-family:Menlo,'DejaVu Sans Mono',consolas,'Courier New',monospace\">┏━━━━━━━━━━━━━━━━━━━━━━━━━━━━━━━━━━━━━━┳━━━━━━━━━━━━━━━━━━━━━━━━━━━━━┳━━━━━━━━━━━━━━━━━┓\n",
       "┃<span style=\"font-weight: bold\"> Layer (type)                         </span>┃<span style=\"font-weight: bold\"> Output Shape                </span>┃<span style=\"font-weight: bold\">         Param # </span>┃\n",
       "┡━━━━━━━━━━━━━━━━━━━━━━━━━━━━━━━━━━━━━━╇━━━━━━━━━━━━━━━━━━━━━━━━━━━━━╇━━━━━━━━━━━━━━━━━┩\n",
       "│ dense (<span style=\"color: #0087ff; text-decoration-color: #0087ff\">Dense</span>)                        │ (<span style=\"color: #00d7ff; text-decoration-color: #00d7ff\">None</span>, <span style=\"color: #00af00; text-decoration-color: #00af00\">30</span>)                  │             <span style=\"color: #00af00; text-decoration-color: #00af00\">330</span> │\n",
       "├──────────────────────────────────────┼─────────────────────────────┼─────────────────┤\n",
       "│ dense_1 (<span style=\"color: #0087ff; text-decoration-color: #0087ff\">Dense</span>)                      │ (<span style=\"color: #00d7ff; text-decoration-color: #00d7ff\">None</span>, <span style=\"color: #00af00; text-decoration-color: #00af00\">15</span>)                  │             <span style=\"color: #00af00; text-decoration-color: #00af00\">465</span> │\n",
       "├──────────────────────────────────────┼─────────────────────────────┼─────────────────┤\n",
       "│ dense_2 (<span style=\"color: #0087ff; text-decoration-color: #0087ff\">Dense</span>)                      │ (<span style=\"color: #00d7ff; text-decoration-color: #00d7ff\">None</span>, <span style=\"color: #00af00; text-decoration-color: #00af00\">1</span>)                   │              <span style=\"color: #00af00; text-decoration-color: #00af00\">16</span> │\n",
       "└──────────────────────────────────────┴─────────────────────────────┴─────────────────┘\n",
       "</pre>\n"
      ],
      "text/plain": [
       "┏━━━━━━━━━━━━━━━━━━━━━━━━━━━━━━━━━━━━━━┳━━━━━━━━━━━━━━━━━━━━━━━━━━━━━┳━━━━━━━━━━━━━━━━━┓\n",
       "┃\u001b[1m \u001b[0m\u001b[1mLayer (type)                        \u001b[0m\u001b[1m \u001b[0m┃\u001b[1m \u001b[0m\u001b[1mOutput Shape               \u001b[0m\u001b[1m \u001b[0m┃\u001b[1m \u001b[0m\u001b[1m        Param #\u001b[0m\u001b[1m \u001b[0m┃\n",
       "┡━━━━━━━━━━━━━━━━━━━━━━━━━━━━━━━━━━━━━━╇━━━━━━━━━━━━━━━━━━━━━━━━━━━━━╇━━━━━━━━━━━━━━━━━┩\n",
       "│ dense (\u001b[38;5;33mDense\u001b[0m)                        │ (\u001b[38;5;45mNone\u001b[0m, \u001b[38;5;34m30\u001b[0m)                  │             \u001b[38;5;34m330\u001b[0m │\n",
       "├──────────────────────────────────────┼─────────────────────────────┼─────────────────┤\n",
       "│ dense_1 (\u001b[38;5;33mDense\u001b[0m)                      │ (\u001b[38;5;45mNone\u001b[0m, \u001b[38;5;34m15\u001b[0m)                  │             \u001b[38;5;34m465\u001b[0m │\n",
       "├──────────────────────────────────────┼─────────────────────────────┼─────────────────┤\n",
       "│ dense_2 (\u001b[38;5;33mDense\u001b[0m)                      │ (\u001b[38;5;45mNone\u001b[0m, \u001b[38;5;34m1\u001b[0m)                   │              \u001b[38;5;34m16\u001b[0m │\n",
       "└──────────────────────────────────────┴─────────────────────────────┴─────────────────┘\n"
      ]
     },
     "metadata": {},
     "output_type": "display_data"
    },
    {
     "data": {
      "text/html": [
       "<pre style=\"white-space:pre;overflow-x:auto;line-height:normal;font-family:Menlo,'DejaVu Sans Mono',consolas,'Courier New',monospace\"><span style=\"font-weight: bold\"> Total params: </span><span style=\"color: #00af00; text-decoration-color: #00af00\">2,435</span> (9.52 KB)\n",
       "</pre>\n"
      ],
      "text/plain": [
       "\u001b[1m Total params: \u001b[0m\u001b[38;5;34m2,435\u001b[0m (9.52 KB)\n"
      ]
     },
     "metadata": {},
     "output_type": "display_data"
    },
    {
     "data": {
      "text/html": [
       "<pre style=\"white-space:pre;overflow-x:auto;line-height:normal;font-family:Menlo,'DejaVu Sans Mono',consolas,'Courier New',monospace\"><span style=\"font-weight: bold\"> Trainable params: </span><span style=\"color: #00af00; text-decoration-color: #00af00\">811</span> (3.17 KB)\n",
       "</pre>\n"
      ],
      "text/plain": [
       "\u001b[1m Trainable params: \u001b[0m\u001b[38;5;34m811\u001b[0m (3.17 KB)\n"
      ]
     },
     "metadata": {},
     "output_type": "display_data"
    },
    {
     "data": {
      "text/html": [
       "<pre style=\"white-space:pre;overflow-x:auto;line-height:normal;font-family:Menlo,'DejaVu Sans Mono',consolas,'Courier New',monospace\"><span style=\"font-weight: bold\"> Non-trainable params: </span><span style=\"color: #00af00; text-decoration-color: #00af00\">0</span> (0.00 B)\n",
       "</pre>\n"
      ],
      "text/plain": [
       "\u001b[1m Non-trainable params: \u001b[0m\u001b[38;5;34m0\u001b[0m (0.00 B)\n"
      ]
     },
     "metadata": {},
     "output_type": "display_data"
    },
    {
     "data": {
      "text/html": [
       "<pre style=\"white-space:pre;overflow-x:auto;line-height:normal;font-family:Menlo,'DejaVu Sans Mono',consolas,'Courier New',monospace\"><span style=\"font-weight: bold\"> Optimizer params: </span><span style=\"color: #00af00; text-decoration-color: #00af00\">1,624</span> (6.35 KB)\n",
       "</pre>\n"
      ],
      "text/plain": [
       "\u001b[1m Optimizer params: \u001b[0m\u001b[38;5;34m1,624\u001b[0m (6.35 KB)\n"
      ]
     },
     "metadata": {},
     "output_type": "display_data"
    }
   ],
   "source": [
    "model1.summary()"
   ]
  },
  {
   "cell_type": "code",
   "execution_count": 63,
   "id": "0712b529",
   "metadata": {},
   "outputs": [],
   "source": [
    "# # Plot loss and accuracy during training\n",
    "# plt.figure(figsize=(18,6), dpi=100)\n",
    "\n",
    "# # Plot loss for training and validation\n",
    "# plt.subplot(121)\n",
    "# plt.title(\"Classification task - Loss\")\n",
    "# plt.xlabel(\"Epoch\")\n",
    "# plt.ylabel(\"Loss\")\n",
    "\n",
    "# plt.plot(history1.history[\"loss\"], label=\"Training loss\")\n",
    "# plt.plot(history1.history[\"val_loss\"], label=\"Validation loss\")\n",
    "# plt.legend()\n",
    "\n",
    "# # Plot accuracy for training and validation\n",
    "# plt.subplot(122)\n",
    "# plt.title(\"Classification task - Accuracy\")\n",
    "# plt.xlabel(\"Epoch\")\n",
    "# plt.ylabel(\"Accuracy\")\n",
    "\n",
    "# plt.plot(history1.history[\"accuracy\"], label=\"Training accuracy\")\n",
    "# plt.plot(history1.history[\"val_accuracy\"], label=\"Validation accuracy\")\n",
    "# plt.legend()\n",
    "\n",
    "# plt.tight_layout()\n",
    "# plt.show()"
   ]
  },
  {
   "cell_type": "markdown",
   "id": "90984ede",
   "metadata": {},
   "source": [
    "### Model testing and evaluation"
   ]
  },
  {
   "cell_type": "markdown",
   "id": "a6e9d0ec",
   "metadata": {},
   "source": [
    "#### Confusion matrix"
   ]
  },
  {
   "cell_type": "code",
   "execution_count": 64,
   "id": "abfea647",
   "metadata": {},
   "outputs": [
    {
     "name": "stdout",
     "output_type": "stream",
     "text": [
      "\u001b[1m53/53\u001b[0m \u001b[32m━━━━━━━━━━━━━━━━━━━━\u001b[0m\u001b[37m\u001b[0m \u001b[1m0s\u001b[0m 2ms/step\n"
     ]
    },
    {
     "data": {
      "text/html": [
       "<div>\n",
       "<style scoped>\n",
       "    .dataframe tbody tr th:only-of-type {\n",
       "        vertical-align: middle;\n",
       "    }\n",
       "\n",
       "    .dataframe tbody tr th {\n",
       "        vertical-align: top;\n",
       "    }\n",
       "\n",
       "    .dataframe thead th {\n",
       "        text-align: right;\n",
       "    }\n",
       "</style>\n",
       "<table border=\"1\" class=\"dataframe\">\n",
       "  <thead>\n",
       "    <tr style=\"text-align: right;\">\n",
       "      <th></th>\n",
       "      <th>True positives</th>\n",
       "      <th>False negatives</th>\n",
       "    </tr>\n",
       "  </thead>\n",
       "  <tbody>\n",
       "    <tr>\n",
       "      <th>False positives</th>\n",
       "      <td>929</td>\n",
       "      <td>72</td>\n",
       "    </tr>\n",
       "    <tr>\n",
       "      <th>True negatives</th>\n",
       "      <td>55</td>\n",
       "      <td>616</td>\n",
       "    </tr>\n",
       "  </tbody>\n",
       "</table>\n",
       "</div>"
      ],
      "text/plain": [
       "                 True positives  False negatives\n",
       "False positives             929               72\n",
       "True negatives               55              616"
      ]
     },
     "execution_count": 64,
     "metadata": {},
     "output_type": "execute_result"
    }
   ],
   "source": [
    "# Predict label\n",
    "y_pred1 = (model1.predict(X_test1)> 0.5).astype(\"int32\").flatten()\n",
    "\n",
    "# Compute confusion matrix\n",
    "cm1 = confusion_matrix(y_test1, y_pred1)\n",
    "\n",
    "# Convert into dataframe\n",
    "indices = [\"False positives\", \"True negatives\"]\n",
    "columns = [\"True positives\", \"False negatives\"]\n",
    "cm1 = pd.DataFrame(cm1, columns=columns, index=indices)\n",
    "cm1"
   ]
  },
  {
   "cell_type": "code",
   "execution_count": 65,
   "id": "1402d2dc",
   "metadata": {},
   "outputs": [
    {
     "data": {
      "image/png": "[encoded data removed]",
      "text/plain": [
       "<Figure size 800x500 with 1 Axes>"
      ]
     },
     "metadata": {},
     "output_type": "display_data"
    }
   ],
   "source": [
    "# Plot confusion matrix\n",
    "plt.figure(figsize=(8,5), dpi=100)\n",
    "sns.heatmap(cm1, annot=True, cmap='Blues', fmt='g', cbar=False)\n",
    "plt.xlabel('Predicted values')\n",
    "plt.ylabel('True values')\n",
    "plt.title('Confusion Matrix')\n",
    "plt.show()"
   ]
  },
  {
   "cell_type": "markdown",
   "id": "740d9682",
   "metadata": {},
   "source": [
    "#### Precision and accuracy"
   ]
  },
  {
   "cell_type": "code",
   "execution_count": 66,
   "id": "ae65f21c",
   "metadata": {},
   "outputs": [
    {
     "data": {
      "text/html": [
       "<div>\n",
       "<style scoped>\n",
       "    .dataframe tbody tr th:only-of-type {\n",
       "        vertical-align: middle;\n",
       "    }\n",
       "\n",
       "    .dataframe tbody tr th {\n",
       "        vertical-align: top;\n",
       "    }\n",
       "\n",
       "    .dataframe thead th {\n",
       "        text-align: right;\n",
       "    }\n",
       "</style>\n",
       "<table border=\"1\" class=\"dataframe\">\n",
       "  <thead>\n",
       "    <tr style=\"text-align: right;\">\n",
       "      <th></th>\n",
       "      <th>Accuracy</th>\n",
       "      <th>Precision</th>\n",
       "      <th>Number of Samples</th>\n",
       "    </tr>\n",
       "  </thead>\n",
       "  <tbody>\n",
       "    <tr>\n",
       "      <th>CO(GT) classification</th>\n",
       "      <td>0.924043</td>\n",
       "      <td>0.918033</td>\n",
       "      <td>1672</td>\n",
       "    </tr>\n",
       "  </tbody>\n",
       "</table>\n",
       "</div>"
      ],
      "text/plain": [
       "                       Accuracy  Precision  Number of Samples\n",
       "CO(GT) classification  0.924043   0.918033               1672"
      ]
     },
     "execution_count": 66,
     "metadata": {},
     "output_type": "execute_result"
    }
   ],
   "source": [
    "# Precision: tp/(tp+fp)\n",
    "# Precision: Evaluate how many predicted values are labelled correctly\n",
    "precision1 = precision_score(y_pred1, y_test1)\n",
    "\n",
    "# Accuracy\n",
    "accuracy1 = accuracy_score(y_pred1, y_test1)\n",
    "\n",
    "# Number of samples\n",
    "num_samples1 = len(y_test1)\n",
    "\n",
    "acc_pc = pd.DataFrame({\n",
    "    \"Accuracy\": accuracy1, \n",
    "    \"Precision\": precision1, \n",
    "    \"Number of Samples\": num_samples1\n",
    "}, index=[\"CO(GT) classification\"])\n",
    "acc_pc"
   ]
  },
  {
   "cell_type": "markdown",
   "id": "6269f52e",
   "metadata": {},
   "source": [
    "## Regression task with neural network"
   ]
  },
  {
   "cell_type": "markdown",
   "id": "a42ca0be",
   "metadata": {},
   "source": [
    "### Design of neural network (Baseline regressor)"
   ]
  },
  {
   "cell_type": "code",
   "execution_count": 67,
   "id": "2849ebff",
   "metadata": {},
   "outputs": [],
   "source": [
    "# Define parameters for baseline classifier\n",
    "num_layers2 = 3\n",
    "num_units2 = 16\n",
    "activations2 = {\"hidden\": \"relu\", \"output\": \"linear\"}\n",
    "loss2 = \"mean_squared_error\"\n",
    "# optimizer2 = \"sgd\"\n",
    "optimizer2 = \"adam\"\n",
    "metrics2 = [\"mae\"]"
   ]
  },
  {
   "cell_type": "code",
   "execution_count": 68,
   "id": "18f314ab",
   "metadata": {},
   "outputs": [],
   "source": [
    "# baseline_regressor = define_model(input_shape=(X_train2.shape[1],),\n",
    "#                                    num_layers=num_layers2, \n",
    "#                                    num_units=num_units2, \n",
    "#                                    activations=activations2,\n",
    "#                                    loss=loss2, \n",
    "#                                    optimizer=optimizer2, \n",
    "#                                    metrics=metrics2)\n",
    "\n",
    "# # Train the model\n",
    "# baseline_regressor.fit(X_train2, y_train2, epochs=epochs, batch_size=batch_size)"
   ]
  },
  {
   "cell_type": "code",
   "execution_count": 69,
   "id": "10d7bbb7",
   "metadata": {},
   "outputs": [],
   "source": [
    "# baseline_regressor.summary()"
   ]
  },
  {
   "cell_type": "markdown",
   "id": "76b817c0",
   "metadata": {},
   "source": [
    "### Hyperparameter tuning"
   ]
  },
  {
   "cell_type": "markdown",
   "id": "96e2ea8b",
   "metadata": {},
   "source": [
    "Parameters for neural network training including number of units per hidden layer, and optimiser (SGD, Adam) are tuned using a neural network based on the designed baseline model, which has 1 input layer, 2 hidden layers and 1 output layer. The tuned model is trained on 100 epochs, with batch size of 16."
   ]
  },
  {
   "cell_type": "code",
   "execution_count": 70,
   "id": "9722192b",
   "metadata": {},
   "outputs": [],
   "source": [
    "def build_hp_model2(hp):\n",
    "    \"\"\"\n",
    "    Build hyperparameter-tuning regressor (task 2).\n",
    "    \"\"\"\n",
    "    # Specified input shape\n",
    "    input_shape = (X_train2.shape[1],)\n",
    "\n",
    "    # Hyperparameters to be tuned\n",
    "    params = {\n",
    "        \"num_units\": [16, 32], \n",
    "        \"optimizer\": [\"adam\", \"sgd\"],\n",
    "    }\n",
    "    \n",
    "    # Set fixed model training parameters\n",
    "    activations = {\"hidden\": \"relu\", \"output\": \"linear\"}\n",
    "    loss = \"mean_squared_error\"\n",
    "    metrics = [\"mae\"]\n",
    "    \n",
    "    return hp_model(hp, params, input_shape, activations, loss, metrics)"
   ]
  },
  {
   "cell_type": "code",
   "execution_count": 71,
   "id": "d997ac00",
   "metadata": {},
   "outputs": [
    {
     "name": "stdout",
     "output_type": "stream",
     "text": [
      "Reloading Tuner from hp_dir\\t2_hp\\tuner0.json\n",
      "32\n",
      "adam\n"
     ]
    }
   ],
   "source": [
    "# Tune number of units per layer and optimiser\n",
    "best_hps2 = hyperparameter_tuning(task=2)\n",
    "\n",
    "print(best_hps2.get(\"num_units\"))\n",
    "print(best_hps2.get(\"optimizer\"))"
   ]
  },
  {
   "cell_type": "markdown",
   "id": "9eff8a5b",
   "metadata": {},
   "source": [
    "### Model training and validation"
   ]
  },
  {
   "cell_type": "code",
   "execution_count": 72,
   "id": "0a61a965",
   "metadata": {},
   "outputs": [
    {
     "name": "stdout",
     "output_type": "stream",
     "text": [
      "Epoch 1/100\n"
     ]
    },
    {
     "name": "stderr",
     "output_type": "stream",
     "text": [
      "C:\\Users\\wengx\\anaconda3\\Lib\\site-packages\\keras\\src\\layers\\core\\dense.py:86: UserWarning: Do not pass an `input_shape`/`input_dim` argument to a layer. When using Sequential models, prefer using an `Input(shape)` object as the first layer in the model instead.\n",
      "  super().__init__(activity_regularizer=activity_regularizer, **kwargs)\n"
     ]
    },
    {
     "name": "stdout",
     "output_type": "stream",
     "text": [
      "\u001b[1m168/168\u001b[0m \u001b[32m━━━━━━━━━━━━━━━━━━━━\u001b[0m\u001b[37m\u001b[0m \u001b[1m2s\u001b[0m 4ms/step - loss: 54234.9258 - mae: 177.7900 - val_loss: 210792.8281 - val_mae: 379.2927\n",
      "Epoch 2/100\n",
      "\u001b[1m168/168\u001b[0m \u001b[32m━━━━━━━━━━━━━━━━━━━━\u001b[0m\u001b[37m\u001b[0m \u001b[1m1s\u001b[0m 2ms/step - loss: 40231.0430 - mae: 146.0432 - val_loss: 132959.6719 - val_mae: 306.6071\n",
      "Epoch 3/100\n",
      "\u001b[1m168/168\u001b[0m \u001b[32m━━━━━━━━━━━━━━━━━━━━\u001b[0m\u001b[37m\u001b[0m \u001b[1m0s\u001b[0m 2ms/step - loss: 16368.6494 - mae: 90.2930 - val_loss: 95038.0156 - val_mae: 261.1535\n",
      "Epoch 4/100\n",
      "\u001b[1m168/168\u001b[0m \u001b[32m━━━━━━━━━━━━━━━━━━━━\u001b[0m\u001b[37m\u001b[0m \u001b[1m0s\u001b[0m 2ms/step - loss: 12973.1445 - mae: 82.2238 - val_loss: 82697.2422 - val_mae: 240.5994\n",
      "Epoch 5/100\n",
      "\u001b[1m168/168\u001b[0m \u001b[32m━━━━━━━━━━━━━━━━━━━━\u001b[0m\u001b[37m\u001b[0m \u001b[1m1s\u001b[0m 2ms/step - loss: 10412.4766 - mae: 74.7993 - val_loss: 64999.4297 - val_mae: 209.5857\n",
      "Epoch 6/100\n",
      "\u001b[1m168/168\u001b[0m \u001b[32m━━━━━━━━━━━━━━━━━━━━\u001b[0m\u001b[37m\u001b[0m \u001b[1m1s\u001b[0m 2ms/step - loss: 9127.5771 - mae: 69.1251 - val_loss: 48656.1992 - val_mae: 175.1418\n",
      "Epoch 7/100\n",
      "\u001b[1m168/168\u001b[0m \u001b[32m━━━━━━━━━━━━━━━━━━━━\u001b[0m\u001b[37m\u001b[0m \u001b[1m0s\u001b[0m 2ms/step - loss: 7043.6426 - mae: 60.1293 - val_loss: 35389.9609 - val_mae: 141.6362\n",
      "Epoch 8/100\n",
      "\u001b[1m168/168\u001b[0m \u001b[32m━━━━━━━━━━━━━━━━━━━━\u001b[0m\u001b[37m\u001b[0m \u001b[1m1s\u001b[0m 3ms/step - loss: 5544.8428 - mae: 53.5925 - val_loss: 24823.1445 - val_mae: 112.0196\n",
      "Epoch 9/100\n",
      "\u001b[1m168/168\u001b[0m \u001b[32m━━━━━━━━━━━━━━━━━━━━\u001b[0m\u001b[37m\u001b[0m \u001b[1m1s\u001b[0m 3ms/step - loss: 4685.4253 - mae: 49.1088 - val_loss: 19584.9453 - val_mae: 96.8433\n",
      "Epoch 10/100\n",
      "\u001b[1m168/168\u001b[0m \u001b[32m━━━━━━━━━━━━━━━━━━━━\u001b[0m\u001b[37m\u001b[0m \u001b[1m0s\u001b[0m 2ms/step - loss: 4219.4341 - mae: 46.7083 - val_loss: 16018.8604 - val_mae: 87.8403\n",
      "Epoch 11/100\n",
      "\u001b[1m168/168\u001b[0m \u001b[32m━━━━━━━━━━━━━━━━━━━━\u001b[0m\u001b[37m\u001b[0m \u001b[1m0s\u001b[0m 2ms/step - loss: 4035.5991 - mae: 45.0082 - val_loss: 15009.9121 - val_mae: 87.0711\n",
      "Epoch 12/100\n",
      "\u001b[1m168/168\u001b[0m \u001b[32m━━━━━━━━━━━━━━━━━━━━\u001b[0m\u001b[37m\u001b[0m \u001b[1m0s\u001b[0m 2ms/step - loss: 3738.4111 - mae: 43.3979 - val_loss: 14577.9375 - val_mae: 87.7223\n",
      "Epoch 13/100\n",
      "\u001b[1m168/168\u001b[0m \u001b[32m━━━━━━━━━━━━━━━━━━━━\u001b[0m\u001b[37m\u001b[0m \u001b[1m0s\u001b[0m 2ms/step - loss: 3532.8269 - mae: 42.2007 - val_loss: 14756.7969 - val_mae: 90.5949\n",
      "Epoch 14/100\n",
      "\u001b[1m168/168\u001b[0m \u001b[32m━━━━━━━━━━━━━━━━━━━━\u001b[0m\u001b[37m\u001b[0m \u001b[1m0s\u001b[0m 2ms/step - loss: 3396.5220 - mae: 41.6595 - val_loss: 14345.5859 - val_mae: 91.8124\n",
      "Epoch 15/100\n",
      "\u001b[1m168/168\u001b[0m \u001b[32m━━━━━━━━━━━━━━━━━━━━\u001b[0m\u001b[37m\u001b[0m \u001b[1m1s\u001b[0m 3ms/step - loss: 3234.5845 - mae: 40.9326 - val_loss: 14274.9023 - val_mae: 93.6243\n",
      "Epoch 16/100\n",
      "\u001b[1m168/168\u001b[0m \u001b[32m━━━━━━━━━━━━━━━━━━━━\u001b[0m\u001b[37m\u001b[0m \u001b[1m0s\u001b[0m 2ms/step - loss: 3180.9150 - mae: 40.5272 - val_loss: 14287.4365 - val_mae: 95.7210\n",
      "Epoch 17/100\n",
      "\u001b[1m168/168\u001b[0m \u001b[32m━━━━━━━━━━━━━━━━━━━━\u001b[0m\u001b[37m\u001b[0m \u001b[1m0s\u001b[0m 2ms/step - loss: 3146.6504 - mae: 40.0332 - val_loss: 14962.3848 - val_mae: 98.1942\n",
      "Epoch 18/100\n",
      "\u001b[1m168/168\u001b[0m \u001b[32m━━━━━━━━━━━━━━━━━━━━\u001b[0m\u001b[37m\u001b[0m \u001b[1m0s\u001b[0m 2ms/step - loss: 3262.4490 - mae: 40.8089 - val_loss: 15724.7002 - val_mae: 100.6809\n",
      "Epoch 19/100\n",
      "\u001b[1m168/168\u001b[0m \u001b[32m━━━━━━━━━━━━━━━━━━━━\u001b[0m\u001b[37m\u001b[0m \u001b[1m1s\u001b[0m 2ms/step - loss: 3097.9895 - mae: 40.0469 - val_loss: 15339.8447 - val_mae: 101.3112\n",
      "Epoch 20/100\n",
      "\u001b[1m168/168\u001b[0m \u001b[32m━━━━━━━━━━━━━━━━━━━━\u001b[0m\u001b[37m\u001b[0m \u001b[1m0s\u001b[0m 3ms/step - loss: 3085.5623 - mae: 39.6924 - val_loss: 15729.6143 - val_mae: 103.1809\n",
      "Epoch 21/100\n",
      "\u001b[1m168/168\u001b[0m \u001b[32m━━━━━━━━━━━━━━━━━━━━\u001b[0m\u001b[37m\u001b[0m \u001b[1m1s\u001b[0m 3ms/step - loss: 3029.4983 - mae: 39.4466 - val_loss: 16379.5840 - val_mae: 105.3109\n",
      "Epoch 22/100\n",
      "\u001b[1m168/168\u001b[0m \u001b[32m━━━━━━━━━━━━━━━━━━━━\u001b[0m\u001b[37m\u001b[0m \u001b[1m0s\u001b[0m 2ms/step - loss: 3060.9990 - mae: 39.4884 - val_loss: 16426.9551 - val_mae: 105.7536\n",
      "Epoch 23/100\n",
      "\u001b[1m168/168\u001b[0m \u001b[32m━━━━━━━━━━━━━━━━━━━━\u001b[0m\u001b[37m\u001b[0m \u001b[1m1s\u001b[0m 2ms/step - loss: 2960.0532 - mae: 38.6814 - val_loss: 16424.2227 - val_mae: 106.8602\n",
      "Epoch 24/100\n",
      "\u001b[1m168/168\u001b[0m \u001b[32m━━━━━━━━━━━━━━━━━━━━\u001b[0m\u001b[37m\u001b[0m \u001b[1m0s\u001b[0m 2ms/step - loss: 2981.6411 - mae: 38.6312 - val_loss: 16203.5352 - val_mae: 106.4875\n",
      "Epoch 25/100\n",
      "\u001b[1m168/168\u001b[0m \u001b[32m━━━━━━━━━━━━━━━━━━━━\u001b[0m\u001b[37m\u001b[0m \u001b[1m0s\u001b[0m 2ms/step - loss: 2981.7180 - mae: 38.5929 - val_loss: 16354.8193 - val_mae: 107.6426\n",
      "Epoch 26/100\n",
      "\u001b[1m168/168\u001b[0m \u001b[32m━━━━━━━━━━━━━━━━━━━━\u001b[0m\u001b[37m\u001b[0m \u001b[1m0s\u001b[0m 2ms/step - loss: 2778.5896 - mae: 37.2673 - val_loss: 16646.5410 - val_mae: 108.6670\n",
      "Epoch 27/100\n",
      "\u001b[1m168/168\u001b[0m \u001b[32m━━━━━━━━━━━━━━━━━━━━\u001b[0m\u001b[37m\u001b[0m \u001b[1m0s\u001b[0m 3ms/step - loss: 2887.9875 - mae: 38.1823 - val_loss: 17086.2617 - val_mae: 109.5190\n",
      "Epoch 28/100\n",
      "\u001b[1m168/168\u001b[0m \u001b[32m━━━━━━━━━━━━━━━━━━━━\u001b[0m\u001b[37m\u001b[0m \u001b[1m0s\u001b[0m 2ms/step - loss: 2729.1282 - mae: 37.2682 - val_loss: 17039.0898 - val_mae: 109.0228\n",
      "Epoch 29/100\n",
      "\u001b[1m168/168\u001b[0m \u001b[32m━━━━━━━━━━━━━━━━━━━━\u001b[0m\u001b[37m\u001b[0m \u001b[1m0s\u001b[0m 2ms/step - loss: 2837.2969 - mae: 38.0549 - val_loss: 17185.8398 - val_mae: 111.1148\n",
      "Epoch 30/100\n",
      "\u001b[1m168/168\u001b[0m \u001b[32m━━━━━━━━━━━━━━━━━━━━\u001b[0m\u001b[37m\u001b[0m \u001b[1m0s\u001b[0m 2ms/step - loss: 2718.0188 - mae: 37.0307 - val_loss: 17438.8477 - val_mae: 111.2395\n",
      "Epoch 31/100\n",
      "\u001b[1m168/168\u001b[0m \u001b[32m━━━━━━━━━━━━━━━━━━━━\u001b[0m\u001b[37m\u001b[0m \u001b[1m1s\u001b[0m 2ms/step - loss: 2785.8137 - mae: 37.3923 - val_loss: 17423.2344 - val_mae: 111.1082\n",
      "Epoch 32/100\n",
      "\u001b[1m168/168\u001b[0m \u001b[32m━━━━━━━━━━━━━━━━━━━━\u001b[0m\u001b[37m\u001b[0m \u001b[1m0s\u001b[0m 2ms/step - loss: 2770.5408 - mae: 36.4799 - val_loss: 17193.4297 - val_mae: 111.7357\n",
      "Epoch 33/100\n",
      "\u001b[1m168/168\u001b[0m \u001b[32m━━━━━━━━━━━━━━━━━━━━\u001b[0m\u001b[37m\u001b[0m \u001b[1m1s\u001b[0m 2ms/step - loss: 2681.9866 - mae: 36.1010 - val_loss: 17366.3848 - val_mae: 111.5343\n",
      "Epoch 34/100\n",
      "\u001b[1m168/168\u001b[0m \u001b[32m━━━━━━━━━━━━━━━━━━━━\u001b[0m\u001b[37m\u001b[0m \u001b[1m1s\u001b[0m 2ms/step - loss: 2925.6509 - mae: 37.3056 - val_loss: 17293.6641 - val_mae: 111.7018\n",
      "Epoch 35/100\n",
      "\u001b[1m168/168\u001b[0m \u001b[32m━━━━━━━━━━━━━━━━━━━━\u001b[0m\u001b[37m\u001b[0m \u001b[1m0s\u001b[0m 3ms/step - loss: 2727.7700 - mae: 36.8353 - val_loss: 17791.5352 - val_mae: 113.8453\n",
      "Epoch 36/100\n",
      "\u001b[1m168/168\u001b[0m \u001b[32m━━━━━━━━━━━━━━━━━━━━\u001b[0m\u001b[37m\u001b[0m \u001b[1m0s\u001b[0m 2ms/step - loss: 2562.3940 - mae: 35.9098 - val_loss: 17726.4082 - val_mae: 112.2270\n",
      "Epoch 37/100\n",
      "\u001b[1m168/168\u001b[0m \u001b[32m━━━━━━━━━━━━━━━━━━━━\u001b[0m\u001b[37m\u001b[0m \u001b[1m1s\u001b[0m 3ms/step - loss: 2718.0022 - mae: 36.7653 - val_loss: 17677.8574 - val_mae: 113.0408\n",
      "Epoch 38/100\n",
      "\u001b[1m168/168\u001b[0m \u001b[32m━━━━━━━━━━━━━━━━━━━━\u001b[0m\u001b[37m\u001b[0m \u001b[1m1s\u001b[0m 3ms/step - loss: 2662.3584 - mae: 36.3902 - val_loss: 17761.4355 - val_mae: 113.2079\n",
      "Epoch 39/100\n",
      "\u001b[1m168/168\u001b[0m \u001b[32m━━━━━━━━━━━━━━━━━━━━\u001b[0m\u001b[37m\u001b[0m \u001b[1m1s\u001b[0m 3ms/step - loss: 2664.3877 - mae: 35.4084 - val_loss: 18371.4668 - val_mae: 115.4414\n",
      "Epoch 40/100\n",
      "\u001b[1m168/168\u001b[0m \u001b[32m━━━━━━━━━━━━━━━━━━━━\u001b[0m\u001b[37m\u001b[0m \u001b[1m0s\u001b[0m 2ms/step - loss: 2610.5112 - mae: 35.5093 - val_loss: 18245.8652 - val_mae: 114.5896\n",
      "Epoch 41/100\n",
      "\u001b[1m168/168\u001b[0m \u001b[32m━━━━━━━━━━━━━━━━━━━━\u001b[0m\u001b[37m\u001b[0m \u001b[1m1s\u001b[0m 3ms/step - loss: 2660.2354 - mae: 35.8344 - val_loss: 18062.2656 - val_mae: 114.8139\n",
      "Epoch 42/100\n",
      "\u001b[1m168/168\u001b[0m \u001b[32m━━━━━━━━━━━━━━━━━━━━\u001b[0m\u001b[37m\u001b[0m \u001b[1m0s\u001b[0m 3ms/step - loss: 2582.5596 - mae: 35.9015 - val_loss: 18315.9180 - val_mae: 115.4154\n",
      "Epoch 43/100\n",
      "\u001b[1m168/168\u001b[0m \u001b[32m━━━━━━━━━━━━━━━━━━━━\u001b[0m\u001b[37m\u001b[0m \u001b[1m1s\u001b[0m 3ms/step - loss: 2532.8813 - mae: 34.9180 - val_loss: 18564.7402 - val_mae: 116.2317\n",
      "Epoch 44/100\n",
      "\u001b[1m168/168\u001b[0m \u001b[32m━━━━━━━━━━━━━━━━━━━━\u001b[0m\u001b[37m\u001b[0m \u001b[1m0s\u001b[0m 2ms/step - loss: 2798.5039 - mae: 36.2426 - val_loss: 18134.7207 - val_mae: 115.1333\n",
      "Epoch 45/100\n",
      "\u001b[1m168/168\u001b[0m \u001b[32m━━━━━━━━━━━━━━━━━━━━\u001b[0m\u001b[37m\u001b[0m \u001b[1m0s\u001b[0m 2ms/step - loss: 2546.3098 - mae: 35.0899 - val_loss: 18629.8105 - val_mae: 116.1282\n",
      "Epoch 46/100\n",
      "\u001b[1m168/168\u001b[0m \u001b[32m━━━━━━━━━━━━━━━━━━━━\u001b[0m\u001b[37m\u001b[0m \u001b[1m0s\u001b[0m 2ms/step - loss: 2622.9233 - mae: 35.6517 - val_loss: 18152.4082 - val_mae: 114.5094\n",
      "Epoch 47/100\n",
      "\u001b[1m168/168\u001b[0m \u001b[32m━━━━━━━━━━━━━━━━━━━━\u001b[0m\u001b[37m\u001b[0m \u001b[1m0s\u001b[0m 2ms/step - loss: 2540.6350 - mae: 34.3925 - val_loss: 18502.5508 - val_mae: 116.4538\n",
      "Epoch 48/100\n",
      "\u001b[1m168/168\u001b[0m \u001b[32m━━━━━━━━━━━━━━━━━━━━\u001b[0m\u001b[37m\u001b[0m \u001b[1m0s\u001b[0m 2ms/step - loss: 2599.0830 - mae: 35.4013 - val_loss: 17699.1191 - val_mae: 113.2729\n",
      "Epoch 49/100\n",
      "\u001b[1m168/168\u001b[0m \u001b[32m━━━━━━━━━━━━━━━━━━━━\u001b[0m\u001b[37m\u001b[0m \u001b[1m0s\u001b[0m 2ms/step - loss: 2682.2708 - mae: 35.7881 - val_loss: 17936.0840 - val_mae: 114.5897\n",
      "Epoch 50/100\n",
      "\u001b[1m168/168\u001b[0m \u001b[32m━━━━━━━━━━━━━━━━━━━━\u001b[0m\u001b[37m\u001b[0m \u001b[1m1s\u001b[0m 3ms/step - loss: 2612.0383 - mae: 35.6205 - val_loss: 18593.6191 - val_mae: 115.9720\n",
      "Epoch 51/100\n"
     ]
    },
    {
     "name": "stdout",
     "output_type": "stream",
     "text": [
      "\u001b[1m168/168\u001b[0m \u001b[32m━━━━━━━━━━━━━━━━━━━━\u001b[0m\u001b[37m\u001b[0m \u001b[1m1s\u001b[0m 3ms/step - loss: 2540.7393 - mae: 34.8264 - val_loss: 18543.4629 - val_mae: 115.8401\n",
      "Epoch 52/100\n",
      "\u001b[1m168/168\u001b[0m \u001b[32m━━━━━━━━━━━━━━━━━━━━\u001b[0m\u001b[37m\u001b[0m \u001b[1m0s\u001b[0m 3ms/step - loss: 2518.7148 - mae: 34.4340 - val_loss: 18429.1406 - val_mae: 116.4621\n",
      "Epoch 53/100\n",
      "\u001b[1m168/168\u001b[0m \u001b[32m━━━━━━━━━━━━━━━━━━━━\u001b[0m\u001b[37m\u001b[0m \u001b[1m1s\u001b[0m 2ms/step - loss: 2417.5264 - mae: 33.5728 - val_loss: 18634.0156 - val_mae: 117.0574\n",
      "Epoch 54/100\n",
      "\u001b[1m168/168\u001b[0m \u001b[32m━━━━━━━━━━━━━━━━━━━━\u001b[0m\u001b[37m\u001b[0m \u001b[1m0s\u001b[0m 3ms/step - loss: 2591.7412 - mae: 34.8846 - val_loss: 18347.5332 - val_mae: 116.0679\n",
      "Epoch 55/100\n",
      "\u001b[1m168/168\u001b[0m \u001b[32m━━━━━━━━━━━━━━━━━━━━\u001b[0m\u001b[37m\u001b[0m \u001b[1m1s\u001b[0m 3ms/step - loss: 2470.5408 - mae: 34.4962 - val_loss: 18542.2461 - val_mae: 116.1893\n",
      "Epoch 56/100\n",
      "\u001b[1m168/168\u001b[0m \u001b[32m━━━━━━━━━━━━━━━━━━━━\u001b[0m\u001b[37m\u001b[0m \u001b[1m0s\u001b[0m 2ms/step - loss: 2406.9844 - mae: 33.9077 - val_loss: 18299.4219 - val_mae: 115.4680\n",
      "Epoch 57/100\n",
      "\u001b[1m168/168\u001b[0m \u001b[32m━━━━━━━━━━━━━━━━━━━━\u001b[0m\u001b[37m\u001b[0m \u001b[1m1s\u001b[0m 2ms/step - loss: 2329.8281 - mae: 33.5252 - val_loss: 19019.4023 - val_mae: 117.6817\n",
      "Epoch 58/100\n",
      "\u001b[1m168/168\u001b[0m \u001b[32m━━━━━━━━━━━━━━━━━━━━\u001b[0m\u001b[37m\u001b[0m \u001b[1m0s\u001b[0m 3ms/step - loss: 2439.9360 - mae: 33.9490 - val_loss: 18749.9766 - val_mae: 117.0255\n",
      "Epoch 59/100\n",
      "\u001b[1m168/168\u001b[0m \u001b[32m━━━━━━━━━━━━━━━━━━━━\u001b[0m\u001b[37m\u001b[0m \u001b[1m0s\u001b[0m 2ms/step - loss: 2338.0483 - mae: 33.3498 - val_loss: 18922.9883 - val_mae: 118.1312\n",
      "Epoch 60/100\n",
      "\u001b[1m168/168\u001b[0m \u001b[32m━━━━━━━━━━━━━━━━━━━━\u001b[0m\u001b[37m\u001b[0m \u001b[1m1s\u001b[0m 3ms/step - loss: 2490.4031 - mae: 34.6305 - val_loss: 18220.0059 - val_mae: 114.6344\n",
      "Epoch 61/100\n",
      "\u001b[1m168/168\u001b[0m \u001b[32m━━━━━━━━━━━━━━━━━━━━\u001b[0m\u001b[37m\u001b[0m \u001b[1m1s\u001b[0m 3ms/step - loss: 2496.5215 - mae: 34.0063 - val_loss: 18354.7500 - val_mae: 115.5122\n",
      "Epoch 62/100\n",
      "\u001b[1m168/168\u001b[0m \u001b[32m━━━━━━━━━━━━━━━━━━━━\u001b[0m\u001b[37m\u001b[0m \u001b[1m1s\u001b[0m 3ms/step - loss: 2395.4680 - mae: 33.6407 - val_loss: 18659.4863 - val_mae: 116.6740\n",
      "Epoch 63/100\n",
      "\u001b[1m168/168\u001b[0m \u001b[32m━━━━━━━━━━━━━━━━━━━━\u001b[0m\u001b[37m\u001b[0m \u001b[1m0s\u001b[0m 2ms/step - loss: 2472.5378 - mae: 34.0060 - val_loss: 17841.4023 - val_mae: 113.8664\n",
      "Epoch 64/100\n",
      "\u001b[1m168/168\u001b[0m \u001b[32m━━━━━━━━━━━━━━━━━━━━\u001b[0m\u001b[37m\u001b[0m \u001b[1m1s\u001b[0m 3ms/step - loss: 2354.2034 - mae: 33.0092 - val_loss: 18758.6094 - val_mae: 117.0478\n",
      "Epoch 65/100\n",
      "\u001b[1m168/168\u001b[0m \u001b[32m━━━━━━━━━━━━━━━━━━━━\u001b[0m\u001b[37m\u001b[0m \u001b[1m1s\u001b[0m 2ms/step - loss: 2265.5398 - mae: 33.1887 - val_loss: 18552.3105 - val_mae: 116.7108\n",
      "Epoch 66/100\n",
      "\u001b[1m168/168\u001b[0m \u001b[32m━━━━━━━━━━━━━━━━━━━━\u001b[0m\u001b[37m\u001b[0m \u001b[1m1s\u001b[0m 2ms/step - loss: 2210.0530 - mae: 32.3584 - val_loss: 17786.0664 - val_mae: 114.1464\n",
      "Epoch 67/100\n",
      "\u001b[1m168/168\u001b[0m \u001b[32m━━━━━━━━━━━━━━━━━━━━\u001b[0m\u001b[37m\u001b[0m \u001b[1m0s\u001b[0m 2ms/step - loss: 2364.8896 - mae: 32.9838 - val_loss: 18022.2695 - val_mae: 115.0347\n",
      "Epoch 68/100\n",
      "\u001b[1m168/168\u001b[0m \u001b[32m━━━━━━━━━━━━━━━━━━━━\u001b[0m\u001b[37m\u001b[0m \u001b[1m0s\u001b[0m 2ms/step - loss: 2312.3127 - mae: 32.7714 - val_loss: 18269.2949 - val_mae: 116.2357\n",
      "Epoch 69/100\n",
      "\u001b[1m168/168\u001b[0m \u001b[32m━━━━━━━━━━━━━━━━━━━━\u001b[0m\u001b[37m\u001b[0m \u001b[1m0s\u001b[0m 2ms/step - loss: 2320.5210 - mae: 32.7325 - val_loss: 18406.3164 - val_mae: 115.8687\n",
      "Epoch 70/100\n",
      "\u001b[1m168/168\u001b[0m \u001b[32m━━━━━━━━━━━━━━━━━━━━\u001b[0m\u001b[37m\u001b[0m \u001b[1m1s\u001b[0m 2ms/step - loss: 2247.4031 - mae: 32.4786 - val_loss: 18094.0371 - val_mae: 114.7268\n",
      "Epoch 71/100\n",
      "\u001b[1m168/168\u001b[0m \u001b[32m━━━━━━━━━━━━━━━━━━━━\u001b[0m\u001b[37m\u001b[0m \u001b[1m1s\u001b[0m 2ms/step - loss: 2245.2649 - mae: 32.3698 - val_loss: 17938.8301 - val_mae: 114.0312\n",
      "Epoch 72/100\n",
      "\u001b[1m168/168\u001b[0m \u001b[32m━━━━━━━━━━━━━━━━━━━━\u001b[0m\u001b[37m\u001b[0m \u001b[1m0s\u001b[0m 2ms/step - loss: 2269.8118 - mae: 32.4149 - val_loss: 18175.2363 - val_mae: 114.9789\n",
      "Epoch 73/100\n",
      "\u001b[1m168/168\u001b[0m \u001b[32m━━━━━━━━━━━━━━━━━━━━\u001b[0m\u001b[37m\u001b[0m \u001b[1m0s\u001b[0m 2ms/step - loss: 2360.7300 - mae: 33.4745 - val_loss: 17763.1504 - val_mae: 114.4353\n",
      "Epoch 74/100\n",
      "\u001b[1m168/168\u001b[0m \u001b[32m━━━━━━━━━━━━━━━━━━━━\u001b[0m\u001b[37m\u001b[0m \u001b[1m0s\u001b[0m 2ms/step - loss: 2135.0300 - mae: 31.4436 - val_loss: 18791.7930 - val_mae: 117.3491\n",
      "Epoch 75/100\n",
      "\u001b[1m168/168\u001b[0m \u001b[32m━━━━━━━━━━━━━━━━━━━━\u001b[0m\u001b[37m\u001b[0m \u001b[1m1s\u001b[0m 2ms/step - loss: 2269.3169 - mae: 32.8922 - val_loss: 18077.9414 - val_mae: 115.0027\n",
      "Epoch 76/100\n",
      "\u001b[1m168/168\u001b[0m \u001b[32m━━━━━━━━━━━━━━━━━━━━\u001b[0m\u001b[37m\u001b[0m \u001b[1m0s\u001b[0m 2ms/step - loss: 2252.2974 - mae: 32.5590 - val_loss: 17683.6777 - val_mae: 113.4485\n",
      "Epoch 77/100\n",
      "\u001b[1m168/168\u001b[0m \u001b[32m━━━━━━━━━━━━━━━━━━━━\u001b[0m\u001b[37m\u001b[0m \u001b[1m0s\u001b[0m 2ms/step - loss: 2323.1597 - mae: 32.8011 - val_loss: 17882.4238 - val_mae: 114.4380\n",
      "Epoch 78/100\n",
      "\u001b[1m168/168\u001b[0m \u001b[32m━━━━━━━━━━━━━━━━━━━━\u001b[0m\u001b[37m\u001b[0m \u001b[1m0s\u001b[0m 2ms/step - loss: 2228.7229 - mae: 32.1602 - val_loss: 17662.8340 - val_mae: 113.5556\n",
      "Epoch 79/100\n",
      "\u001b[1m168/168\u001b[0m \u001b[32m━━━━━━━━━━━━━━━━━━━━\u001b[0m\u001b[37m\u001b[0m \u001b[1m0s\u001b[0m 3ms/step - loss: 2199.9351 - mae: 31.9096 - val_loss: 18101.9141 - val_mae: 115.8788\n",
      "Epoch 80/100\n",
      "\u001b[1m168/168\u001b[0m \u001b[32m━━━━━━━━━━━━━━━━━━━━\u001b[0m\u001b[37m\u001b[0m \u001b[1m1s\u001b[0m 2ms/step - loss: 2119.6660 - mae: 31.4981 - val_loss: 17820.1191 - val_mae: 114.2295\n",
      "Epoch 81/100\n",
      "\u001b[1m168/168\u001b[0m \u001b[32m━━━━━━━━━━━━━━━━━━━━\u001b[0m\u001b[37m\u001b[0m \u001b[1m0s\u001b[0m 2ms/step - loss: 2169.7378 - mae: 32.0165 - val_loss: 17823.5117 - val_mae: 114.6181\n",
      "Epoch 82/100\n",
      "\u001b[1m168/168\u001b[0m \u001b[32m━━━━━━━━━━━━━━━━━━━━\u001b[0m\u001b[37m\u001b[0m \u001b[1m0s\u001b[0m 2ms/step - loss: 2069.4714 - mae: 31.7383 - val_loss: 17314.7852 - val_mae: 112.4425\n",
      "Epoch 83/100\n",
      "\u001b[1m168/168\u001b[0m \u001b[32m━━━━━━━━━━━━━━━━━━━━\u001b[0m\u001b[37m\u001b[0m \u001b[1m0s\u001b[0m 2ms/step - loss: 2060.4409 - mae: 31.3810 - val_loss: 17591.6504 - val_mae: 113.9496\n",
      "Epoch 84/100\n",
      "\u001b[1m168/168\u001b[0m \u001b[32m━━━━━━━━━━━━━━━━━━━━\u001b[0m\u001b[37m\u001b[0m \u001b[1m1s\u001b[0m 3ms/step - loss: 2169.9314 - mae: 32.3723 - val_loss: 17752.2773 - val_mae: 113.5577\n",
      "Epoch 85/100\n",
      "\u001b[1m168/168\u001b[0m \u001b[32m━━━━━━━━━━━━━━━━━━━━\u001b[0m\u001b[37m\u001b[0m \u001b[1m0s\u001b[0m 2ms/step - loss: 2356.7764 - mae: 32.1956 - val_loss: 17346.6953 - val_mae: 112.7409\n",
      "Epoch 86/100\n",
      "\u001b[1m168/168\u001b[0m \u001b[32m━━━━━━━━━━━━━━━━━━━━\u001b[0m\u001b[37m\u001b[0m \u001b[1m1s\u001b[0m 3ms/step - loss: 2064.7712 - mae: 31.5174 - val_loss: 17584.0195 - val_mae: 113.8613\n",
      "Epoch 87/100\n",
      "\u001b[1m168/168\u001b[0m \u001b[32m━━━━━━━━━━━━━━━━━━━━\u001b[0m\u001b[37m\u001b[0m \u001b[1m1s\u001b[0m 2ms/step - loss: 2335.7185 - mae: 33.0211 - val_loss: 17369.0371 - val_mae: 113.1830\n",
      "Epoch 88/100\n",
      "\u001b[1m168/168\u001b[0m \u001b[32m━━━━━━━━━━━━━━━━━━━━\u001b[0m\u001b[37m\u001b[0m \u001b[1m0s\u001b[0m 2ms/step - loss: 2176.6484 - mae: 32.2430 - val_loss: 17255.4746 - val_mae: 113.0288\n",
      "Epoch 89/100\n",
      "\u001b[1m168/168\u001b[0m \u001b[32m━━━━━━━━━━━━━━━━━━━━\u001b[0m\u001b[37m\u001b[0m \u001b[1m0s\u001b[0m 2ms/step - loss: 2137.7112 - mae: 31.8411 - val_loss: 17376.2773 - val_mae: 112.6531\n",
      "Epoch 90/100\n",
      "\u001b[1m168/168\u001b[0m \u001b[32m━━━━━━━━━━━━━━━━━━━━\u001b[0m\u001b[37m\u001b[0m \u001b[1m0s\u001b[0m 2ms/step - loss: 2104.9998 - mae: 31.5359 - val_loss: 16823.3086 - val_mae: 110.2444\n",
      "Epoch 91/100\n",
      "\u001b[1m168/168\u001b[0m \u001b[32m━━━━━━━━━━━━━━━━━━━━\u001b[0m\u001b[37m\u001b[0m \u001b[1m0s\u001b[0m 2ms/step - loss: 2024.3196 - mae: 30.9542 - val_loss: 17057.4336 - val_mae: 111.4421\n",
      "Epoch 92/100\n",
      "\u001b[1m168/168\u001b[0m \u001b[32m━━━━━━━━━━━━━━━━━━━━\u001b[0m\u001b[37m\u001b[0m \u001b[1m0s\u001b[0m 2ms/step - loss: 2153.6960 - mae: 31.9745 - val_loss: 17067.5195 - val_mae: 111.8556\n",
      "Epoch 93/100\n",
      "\u001b[1m168/168\u001b[0m \u001b[32m━━━━━━━━━━━━━━━━━━━━\u001b[0m\u001b[37m\u001b[0m \u001b[1m0s\u001b[0m 3ms/step - loss: 2120.9683 - mae: 31.3692 - val_loss: 17121.4355 - val_mae: 111.9653\n",
      "Epoch 94/100\n",
      "\u001b[1m168/168\u001b[0m \u001b[32m━━━━━━━━━━━━━━━━━━━━\u001b[0m\u001b[37m\u001b[0m \u001b[1m1s\u001b[0m 2ms/step - loss: 2033.1772 - mae: 31.3739 - val_loss: 17285.4277 - val_mae: 113.3065\n",
      "Epoch 95/100\n",
      "\u001b[1m168/168\u001b[0m \u001b[32m━━━━━━━━━━━━━━━━━━━━\u001b[0m\u001b[37m\u001b[0m \u001b[1m0s\u001b[0m 2ms/step - loss: 2151.0933 - mae: 31.7196 - val_loss: 16983.6074 - val_mae: 111.8052\n",
      "Epoch 96/100\n",
      "\u001b[1m168/168\u001b[0m \u001b[32m━━━━━━━━━━━━━━━━━━━━\u001b[0m\u001b[37m\u001b[0m \u001b[1m0s\u001b[0m 3ms/step - loss: 2176.9341 - mae: 31.9202 - val_loss: 16951.3457 - val_mae: 111.2090\n",
      "Epoch 97/100\n",
      "\u001b[1m168/168\u001b[0m \u001b[32m━━━━━━━━━━━━━━━━━━━━\u001b[0m\u001b[37m\u001b[0m \u001b[1m1s\u001b[0m 2ms/step - loss: 2133.2244 - mae: 31.6456 - val_loss: 16664.2285 - val_mae: 110.1853\n",
      "Epoch 98/100\n",
      "\u001b[1m168/168\u001b[0m \u001b[32m━━━━━━━━━━━━━━━━━━━━\u001b[0m\u001b[37m\u001b[0m \u001b[1m1s\u001b[0m 3ms/step - loss: 2194.0134 - mae: 32.2113 - val_loss: 17325.9473 - val_mae: 112.7651\n",
      "Epoch 99/100\n",
      "\u001b[1m168/168\u001b[0m \u001b[32m━━━━━━━━━━━━━━━━━━━━\u001b[0m\u001b[37m\u001b[0m \u001b[1m1s\u001b[0m 3ms/step - loss: 2054.2383 - mae: 30.7503 - val_loss: 16739.6562 - val_mae: 110.3131\n",
      "Epoch 100/100\n",
      "\u001b[1m168/168\u001b[0m \u001b[32m━━━━━━━━━━━━━━━━━━━━\u001b[0m\u001b[37m\u001b[0m \u001b[1m1s\u001b[0m 3ms/step - loss: 2115.1843 - mae: 31.3313 - val_loss: 16969.3164 - val_mae: 112.0633\n"
     ]
    },
    {
     "name": "stdout",
     "output_type": "stream",
     "text": [
      "\u001b[1m168/168\u001b[0m \u001b[32m━━━━━━━━━━━━━━━━━━━━\u001b[0m\u001b[37m\u001b[0m \u001b[1m0s\u001b[0m 1ms/step - loss: 1113.2896 - mae: 22.8487\n",
      "\u001b[1m42/42\u001b[0m \u001b[32m━━━━━━━━━━━━━━━━━━━━\u001b[0m\u001b[37m\u001b[0m \u001b[1m0s\u001b[0m 2ms/step - loss: 16017.8301 - mae: 104.0527\n"
     ]
    }
   ],
   "source": [
    "# Train and validate the model using tuned parameters\n",
    "# Minus 4 to fulfil the condition: # parameters < (# samples / 10) - prevent overfitting\n",
    "num_units2 = best_hps2.get(\"num_units\") - 4\n",
    "optimizer2 = best_hps2.get(\"optimizer\")\n",
    "\n",
    "model2, history2, train_result2, val_result2 = evaluate_model(X_train=X_train2, \n",
    "                                                              y_train=y_train2, \n",
    "                                                              X_val=X_val2, \n",
    "                                                              y_val=y_val2, \n",
    "                                                              num_layers=num_layers2, \n",
    "                                                              num_units=num_units2, \n",
    "                                                              activations=activations2,\n",
    "                                                              loss=loss2, \n",
    "                                                              optimizer=optimizer2, \n",
    "                                                              metrics=metrics2,\n",
    "                                                              epochs=epochs, \n",
    "                                                              batch_size=batch_size)"
   ]
  },
  {
   "cell_type": "code",
   "execution_count": 73,
   "id": "2624e26b",
   "metadata": {},
   "outputs": [
    {
     "name": "stdout",
     "output_type": "stream",
     "text": [
      "Train MAE: 31.730012893676758\n",
      "Validation MAE: 112.06328582763672\n"
     ]
    }
   ],
   "source": [
    "_, train_mae2 = train_result2\n",
    "_, val_mae2 = val_result2\n",
    "\n",
    "print(f\"Train MAE: {train_mae2}\")\n",
    "print(f\"Validation MAE: {val_mae2}\")"
   ]
  },
  {
   "cell_type": "code",
   "execution_count": 74,
   "id": "f6a64628",
   "metadata": {},
   "outputs": [
    {
     "data": {
      "text/html": [
       "<pre style=\"white-space:pre;overflow-x:auto;line-height:normal;font-family:Menlo,'DejaVu Sans Mono',consolas,'Courier New',monospace\"><span style=\"font-weight: bold\">Model: \"sequential_1\"</span>\n",
       "</pre>\n"
      ],
      "text/plain": [
       "\u001b[1mModel: \"sequential_1\"\u001b[0m\n"
      ]
     },
     "metadata": {},
     "output_type": "display_data"
    },
    {
     "data": {
      "text/html": [
       "<pre style=\"white-space:pre;overflow-x:auto;line-height:normal;font-family:Menlo,'DejaVu Sans Mono',consolas,'Courier New',monospace\">┏━━━━━━━━━━━━━━━━━━━━━━━━━━━━━━━━━━━━━━┳━━━━━━━━━━━━━━━━━━━━━━━━━━━━━┳━━━━━━━━━━━━━━━━━┓\n",
       "┃<span style=\"font-weight: bold\"> Layer (type)                         </span>┃<span style=\"font-weight: bold\"> Output Shape                </span>┃<span style=\"font-weight: bold\">         Param # </span>┃\n",
       "┡━━━━━━━━━━━━━━━━━━━━━━━━━━━━━━━━━━━━━━╇━━━━━━━━━━━━━━━━━━━━━━━━━━━━━╇━━━━━━━━━━━━━━━━━┩\n",
       "│ dense_3 (<span style=\"color: #0087ff; text-decoration-color: #0087ff\">Dense</span>)                      │ (<span style=\"color: #00d7ff; text-decoration-color: #00d7ff\">None</span>, <span style=\"color: #00af00; text-decoration-color: #00af00\">28</span>)                  │             <span style=\"color: #00af00; text-decoration-color: #00af00\">364</span> │\n",
       "├──────────────────────────────────────┼─────────────────────────────┼─────────────────┤\n",
       "│ dense_4 (<span style=\"color: #0087ff; text-decoration-color: #0087ff\">Dense</span>)                      │ (<span style=\"color: #00d7ff; text-decoration-color: #00d7ff\">None</span>, <span style=\"color: #00af00; text-decoration-color: #00af00\">14</span>)                  │             <span style=\"color: #00af00; text-decoration-color: #00af00\">406</span> │\n",
       "├──────────────────────────────────────┼─────────────────────────────┼─────────────────┤\n",
       "│ dense_5 (<span style=\"color: #0087ff; text-decoration-color: #0087ff\">Dense</span>)                      │ (<span style=\"color: #00d7ff; text-decoration-color: #00d7ff\">None</span>, <span style=\"color: #00af00; text-decoration-color: #00af00\">1</span>)                   │              <span style=\"color: #00af00; text-decoration-color: #00af00\">15</span> │\n",
       "└──────────────────────────────────────┴─────────────────────────────┴─────────────────┘\n",
       "</pre>\n"
      ],
      "text/plain": [
       "┏━━━━━━━━━━━━━━━━━━━━━━━━━━━━━━━━━━━━━━┳━━━━━━━━━━━━━━━━━━━━━━━━━━━━━┳━━━━━━━━━━━━━━━━━┓\n",
       "┃\u001b[1m \u001b[0m\u001b[1mLayer (type)                        \u001b[0m\u001b[1m \u001b[0m┃\u001b[1m \u001b[0m\u001b[1mOutput Shape               \u001b[0m\u001b[1m \u001b[0m┃\u001b[1m \u001b[0m\u001b[1m        Param #\u001b[0m\u001b[1m \u001b[0m┃\n",
       "┡━━━━━━━━━━━━━━━━━━━━━━━━━━━━━━━━━━━━━━╇━━━━━━━━━━━━━━━━━━━━━━━━━━━━━╇━━━━━━━━━━━━━━━━━┩\n",
       "│ dense_3 (\u001b[38;5;33mDense\u001b[0m)                      │ (\u001b[38;5;45mNone\u001b[0m, \u001b[38;5;34m28\u001b[0m)                  │             \u001b[38;5;34m364\u001b[0m │\n",
       "├──────────────────────────────────────┼─────────────────────────────┼─────────────────┤\n",
       "│ dense_4 (\u001b[38;5;33mDense\u001b[0m)                      │ (\u001b[38;5;45mNone\u001b[0m, \u001b[38;5;34m14\u001b[0m)                  │             \u001b[38;5;34m406\u001b[0m │\n",
       "├──────────────────────────────────────┼─────────────────────────────┼─────────────────┤\n",
       "│ dense_5 (\u001b[38;5;33mDense\u001b[0m)                      │ (\u001b[38;5;45mNone\u001b[0m, \u001b[38;5;34m1\u001b[0m)                   │              \u001b[38;5;34m15\u001b[0m │\n",
       "└──────────────────────────────────────┴─────────────────────────────┴─────────────────┘\n"
      ]
     },
     "metadata": {},
     "output_type": "display_data"
    },
    {
     "data": {
      "text/html": [
       "<pre style=\"white-space:pre;overflow-x:auto;line-height:normal;font-family:Menlo,'DejaVu Sans Mono',consolas,'Courier New',monospace\"><span style=\"font-weight: bold\"> Total params: </span><span style=\"color: #00af00; text-decoration-color: #00af00\">2,357</span> (9.21 KB)\n",
       "</pre>\n"
      ],
      "text/plain": [
       "\u001b[1m Total params: \u001b[0m\u001b[38;5;34m2,357\u001b[0m (9.21 KB)\n"
      ]
     },
     "metadata": {},
     "output_type": "display_data"
    },
    {
     "data": {
      "text/html": [
       "<pre style=\"white-space:pre;overflow-x:auto;line-height:normal;font-family:Menlo,'DejaVu Sans Mono',consolas,'Courier New',monospace\"><span style=\"font-weight: bold\"> Trainable params: </span><span style=\"color: #00af00; text-decoration-color: #00af00\">785</span> (3.07 KB)\n",
       "</pre>\n"
      ],
      "text/plain": [
       "\u001b[1m Trainable params: \u001b[0m\u001b[38;5;34m785\u001b[0m (3.07 KB)\n"
      ]
     },
     "metadata": {},
     "output_type": "display_data"
    },
    {
     "data": {
      "text/html": [
       "<pre style=\"white-space:pre;overflow-x:auto;line-height:normal;font-family:Menlo,'DejaVu Sans Mono',consolas,'Courier New',monospace\"><span style=\"font-weight: bold\"> Non-trainable params: </span><span style=\"color: #00af00; text-decoration-color: #00af00\">0</span> (0.00 B)\n",
       "</pre>\n"
      ],
      "text/plain": [
       "\u001b[1m Non-trainable params: \u001b[0m\u001b[38;5;34m0\u001b[0m (0.00 B)\n"
      ]
     },
     "metadata": {},
     "output_type": "display_data"
    },
    {
     "data": {
      "text/html": [
       "<pre style=\"white-space:pre;overflow-x:auto;line-height:normal;font-family:Menlo,'DejaVu Sans Mono',consolas,'Courier New',monospace\"><span style=\"font-weight: bold\"> Optimizer params: </span><span style=\"color: #00af00; text-decoration-color: #00af00\">1,572</span> (6.14 KB)\n",
       "</pre>\n"
      ],
      "text/plain": [
       "\u001b[1m Optimizer params: \u001b[0m\u001b[38;5;34m1,572\u001b[0m (6.14 KB)\n"
      ]
     },
     "metadata": {},
     "output_type": "display_data"
    }
   ],
   "source": [
    "model2.summary()"
   ]
  },
  {
   "cell_type": "code",
   "execution_count": 75,
   "id": "2a079e8b",
   "metadata": {},
   "outputs": [],
   "source": [
    "# # Plot loss and accuracy during training\n",
    "# plt.figure(figsize=(18,6), dpi=100)\n",
    "\n",
    "# # Plot loss for training and validation\n",
    "# plt.subplot(121)\n",
    "# plt.title(\"Regression task - Loss\")\n",
    "# plt.xlabel(\"Epoch\")\n",
    "# plt.ylabel(\"Loss\")\n",
    "\n",
    "# plt.plot(history2.history[\"loss\"], label=\"Training loss\")\n",
    "# plt.plot(history2.history[\"val_loss\"], label=\"Validation loss\")\n",
    "# plt.legend()\n",
    "\n",
    "# # Plot accuracy for training and validation\n",
    "# plt.subplot(122)\n",
    "# plt.title(\"MLP Validation Phase - Actual vs Estimated NOx(GT) Values\")\n",
    "# plt.xlabel(\"Sample Index\")\n",
    "# plt.ylabel(\"NOx(GT) Value\")\n",
    "\n",
    "\n",
    "# # Predict target value\n",
    "# y_val_pred2 = model2.predict(X_val2).flatten()\n",
    "# # Drop index to make both validation sets consistent\n",
    "# y_val_plot2 = y_val2.reset_index(drop=True)\n",
    "\n",
    "# plt.plot(y_val_plot2, label=\"Actual\")\n",
    "# plt.plot(y_val_pred2, label=\"Predict\")\n",
    "# plt.legend()\n",
    "\n",
    "# plt.tight_layout()\n",
    "# plt.show()"
   ]
  },
  {
   "cell_type": "markdown",
   "id": "d79c785e",
   "metadata": {},
   "source": [
    "### Model testing and evaluation"
   ]
  },
  {
   "cell_type": "code",
   "execution_count": 76,
   "id": "7aa99a47",
   "metadata": {},
   "outputs": [
    {
     "name": "stdout",
     "output_type": "stream",
     "text": [
      "\u001b[1m53/53\u001b[0m \u001b[32m━━━━━━━━━━━━━━━━━━━━\u001b[0m\u001b[37m\u001b[0m \u001b[1m0s\u001b[0m 3ms/step\n"
     ]
    },
    {
     "data": {
      "text/html": [
       "<div>\n",
       "<style scoped>\n",
       "    .dataframe tbody tr th:only-of-type {\n",
       "        vertical-align: middle;\n",
       "    }\n",
       "\n",
       "    .dataframe tbody tr th {\n",
       "        vertical-align: top;\n",
       "    }\n",
       "\n",
       "    .dataframe thead th {\n",
       "        text-align: right;\n",
       "    }\n",
       "</style>\n",
       "<table border=\"1\" class=\"dataframe\">\n",
       "  <thead>\n",
       "    <tr style=\"text-align: right;\">\n",
       "      <th></th>\n",
       "      <th>RMSE</th>\n",
       "      <th>MAE</th>\n",
       "      <th>Number of Samples</th>\n",
       "    </tr>\n",
       "  </thead>\n",
       "  <tbody>\n",
       "    <tr>\n",
       "      <th>Estimation of NOx(GT)</th>\n",
       "      <td>194.260311</td>\n",
       "      <td>176.720118</td>\n",
       "      <td>1672</td>\n",
       "    </tr>\n",
       "  </tbody>\n",
       "</table>\n",
       "</div>"
      ],
      "text/plain": [
       "                             RMSE         MAE  Number of Samples\n",
       "Estimation of NOx(GT)  194.260311  176.720118               1672"
      ]
     },
     "execution_count": 76,
     "metadata": {},
     "output_type": "execute_result"
    }
   ],
   "source": [
    "# Predict target values on test set\n",
    "y_pred2 = model2.predict(X_test2).flatten()\n",
    "\n",
    "# mse\n",
    "mse2 = mean_squared_error(y_test2, y_pred2)\n",
    "# root mse\n",
    "rmse2 = mse2 ** 0.5\n",
    "\n",
    "# mae\n",
    "mae2 = mean_absolute_error(y_test2, y_pred2)\n",
    "\n",
    "num_samples2 = len(y_test2)\n",
    "\n",
    "rmse_mae = pd.DataFrame({\n",
    "    \"RMSE\": rmse2, \n",
    "    \"MAE\": mae2, \n",
    "    \"Number of Samples\": num_samples2\n",
    "}, index=[\"Estimation of NOx(GT)\"])\n",
    "rmse_mae"
   ]
  },
  {
   "cell_type": "markdown",
   "id": "76700a3d",
   "metadata": {},
   "source": [
    "## Generalisation"
   ]
  },
  {
   "cell_type": "markdown",
   "id": "5be0d9cf",
   "metadata": {},
   "source": [
    "### Classification NN model"
   ]
  },
  {
   "cell_type": "code",
   "execution_count": 77,
   "id": "e1e00e23",
   "metadata": {},
   "outputs": [],
   "source": [
    "filepath = \"Generalization Dataset.xlsx\"\n",
    "df = pd.read_excel(filepath)\n",
    "\n",
    "# Drop duplicates (if any)\n",
    "df = df.drop_duplicates()\n",
    "\n",
    "# Replace missing values (-200) with NaN\n",
    "df.replace(-200, np.nan, inplace=True)\n",
    "\n",
    "df2 = df.copy()\n",
    "\n",
    "# Merge Datetime (datetime object)\n",
    "df2['DateTime'] = pd.to_datetime(df2['Date'].astype(str) + ' ' + df2['Time'].astype(str))\n",
    "df2.insert(1, 'DateTime', df2.pop('DateTime'))\n",
    "\n",
    "# Drop Date and Time column\n",
    "df2.drop(['Date', 'Time'], axis=1, inplace=True)\n",
    "# df2.head()\n",
    "\n",
    "df2_interpolate = df2.copy()\n",
    "\n",
    "# Set DateTime as index for interpolation\n",
    "df2_interpolate.set_index('DateTime', inplace=True)\n",
    "df2_interpolate.interpolate(method='time', inplace=True)\n",
    "df2_interpolate.reset_index(inplace=True)\n",
    "\n",
    "# Use the interpolated data\n",
    "# Drop DateTime (not continuous data)\n",
    "df_ = df2_interpolate.copy()\n",
    "df_.drop(\"DateTime\", axis=1, inplace=True)\n",
    "\n",
    "df_1 = df_.loc[:, selected1 + [\"CO(GT)\"]]\n",
    "df_2 = df_.loc[:, selected2 + [\"NOx(GT)\"]]\n",
    "\n",
    "# Label target: 1 if > threshold, 0 otherwise\n",
    "df_1[\"target\"] = (df_1[\"CO(GT)\"] > mean_threshold).astype(int) \n",
    "df_1.drop(\"CO(GT)\", axis=1, inplace=True)\n",
    "\n",
    "# Change column name of target for regression task (consistency)\n",
    "df_2.rename(columns={\"NOx(GT)\": \"target\"}, inplace=True)\n",
    "\n",
    "X_gen1 = df_1.drop(\"target\", axis=1)\n",
    "# Normalise features\n",
    "scaler = StandardScaler()\n",
    "X_gen1 = scaler.fit_transform(X_gen1)\n",
    "y_gen1 = df_1['target']\n",
    "\n",
    "X_gen2 = df_2.drop(\"target\", axis=1)\n",
    "# Normalise features\n",
    "scaler = StandardScaler()\n",
    "X_gen2 = scaler.fit_transform(X_gen2)\n",
    "y_gen2 = df_2['target']"
   ]
  },
  {
   "cell_type": "code",
   "execution_count": 78,
   "id": "eff48000",
   "metadata": {},
   "outputs": [
    {
     "name": "stdout",
     "output_type": "stream",
     "text": [
      "\u001b[1m28/28\u001b[0m \u001b[32m━━━━━━━━━━━━━━━━━━━━\u001b[0m\u001b[37m\u001b[0m \u001b[1m0s\u001b[0m 2ms/step \n"
     ]
    },
    {
     "data": {
      "text/html": [
       "<div>\n",
       "<style scoped>\n",
       "    .dataframe tbody tr th:only-of-type {\n",
       "        vertical-align: middle;\n",
       "    }\n",
       "\n",
       "    .dataframe tbody tr th {\n",
       "        vertical-align: top;\n",
       "    }\n",
       "\n",
       "    .dataframe thead th {\n",
       "        text-align: right;\n",
       "    }\n",
       "</style>\n",
       "<table border=\"1\" class=\"dataframe\">\n",
       "  <thead>\n",
       "    <tr style=\"text-align: right;\">\n",
       "      <th></th>\n",
       "      <th>True positives</th>\n",
       "      <th>False negatives</th>\n",
       "    </tr>\n",
       "  </thead>\n",
       "  <tbody>\n",
       "    <tr>\n",
       "      <th>False positives</th>\n",
       "      <td>472</td>\n",
       "      <td>34</td>\n",
       "    </tr>\n",
       "    <tr>\n",
       "      <th>True negatives</th>\n",
       "      <td>48</td>\n",
       "      <td>318</td>\n",
       "    </tr>\n",
       "  </tbody>\n",
       "</table>\n",
       "</div>"
      ],
      "text/plain": [
       "                 True positives  False negatives\n",
       "False positives             472               34\n",
       "True negatives               48              318"
      ]
     },
     "execution_count": 78,
     "metadata": {},
     "output_type": "execute_result"
    }
   ],
   "source": [
    "# Predict label\n",
    "y_pred1 = (model1.predict(X_gen1)> 0.5).astype(\"int32\").flatten()\n",
    "\n",
    "# Compute confusion matrix\n",
    "cm1 = confusion_matrix(y_gen1, y_pred1)\n",
    "\n",
    "# Convert into dataframe\n",
    "indices = [\"False positives\", \"True negatives\"]\n",
    "columns = [\"True positives\", \"False negatives\"]\n",
    "cm1 = pd.DataFrame(cm1, columns=columns, index=indices)\n",
    "cm1"
   ]
  },
  {
   "cell_type": "code",
   "execution_count": 79,
   "id": "a445798a",
   "metadata": {},
   "outputs": [
    {
     "data": {
      "text/html": [
       "<div>\n",
       "<style scoped>\n",
       "    .dataframe tbody tr th:only-of-type {\n",
       "        vertical-align: middle;\n",
       "    }\n",
       "\n",
       "    .dataframe tbody tr th {\n",
       "        vertical-align: top;\n",
       "    }\n",
       "\n",
       "    .dataframe thead th {\n",
       "        text-align: right;\n",
       "    }\n",
       "</style>\n",
       "<table border=\"1\" class=\"dataframe\">\n",
       "  <thead>\n",
       "    <tr style=\"text-align: right;\">\n",
       "      <th></th>\n",
       "      <th>Accuracy</th>\n",
       "      <th>Precision</th>\n",
       "      <th>Number of Samples</th>\n",
       "    </tr>\n",
       "  </thead>\n",
       "  <tbody>\n",
       "    <tr>\n",
       "      <th>CO(GT) classification</th>\n",
       "      <td>0.905963</td>\n",
       "      <td>0.868852</td>\n",
       "      <td>872</td>\n",
       "    </tr>\n",
       "  </tbody>\n",
       "</table>\n",
       "</div>"
      ],
      "text/plain": [
       "                       Accuracy  Precision  Number of Samples\n",
       "CO(GT) classification  0.905963   0.868852                872"
      ]
     },
     "execution_count": 79,
     "metadata": {},
     "output_type": "execute_result"
    }
   ],
   "source": [
    "# Precision: tp/(tp+fp)\n",
    "# Precision: Evaluate how many predicted values are labelled correctly\n",
    "precision1 = precision_score(y_pred1, y_gen1)\n",
    "\n",
    "# Accuracy\n",
    "accuracy1 = accuracy_score(y_pred1, y_gen1)\n",
    "\n",
    "# Number of samples\n",
    "num_samples1 = len(y_gen1)\n",
    "\n",
    "acc_pc = pd.DataFrame({\n",
    "    \"Accuracy\": accuracy1, \n",
    "    \"Precision\": precision1, \n",
    "    \"Number of Samples\": num_samples1\n",
    "}, index=[\"CO(GT) classification\"])\n",
    "acc_pc"
   ]
  },
  {
   "cell_type": "markdown",
   "id": "d315c940",
   "metadata": {},
   "source": [
    "### Regression NN model"
   ]
  },
  {
   "cell_type": "code",
   "execution_count": 80,
   "id": "73a15ba4",
   "metadata": {},
   "outputs": [
    {
     "name": "stdout",
     "output_type": "stream",
     "text": [
      "\u001b[1m28/28\u001b[0m \u001b[32m━━━━━━━━━━━━━━━━━━━━\u001b[0m\u001b[37m\u001b[0m \u001b[1m0s\u001b[0m 2ms/step \n"
     ]
    },
    {
     "data": {
      "text/html": [
       "<div>\n",
       "<style scoped>\n",
       "    .dataframe tbody tr th:only-of-type {\n",
       "        vertical-align: middle;\n",
       "    }\n",
       "\n",
       "    .dataframe tbody tr th {\n",
       "        vertical-align: top;\n",
       "    }\n",
       "\n",
       "    .dataframe thead th {\n",
       "        text-align: right;\n",
       "    }\n",
       "</style>\n",
       "<table border=\"1\" class=\"dataframe\">\n",
       "  <thead>\n",
       "    <tr style=\"text-align: right;\">\n",
       "      <th></th>\n",
       "      <th>RMSE</th>\n",
       "      <th>MAE</th>\n",
       "      <th>Number of Samples</th>\n",
       "    </tr>\n",
       "  </thead>\n",
       "  <tbody>\n",
       "    <tr>\n",
       "      <th>Estimation of NOx(GT)</th>\n",
       "      <td>110.275677</td>\n",
       "      <td>78.084246</td>\n",
       "      <td>872</td>\n",
       "    </tr>\n",
       "  </tbody>\n",
       "</table>\n",
       "</div>"
      ],
      "text/plain": [
       "                             RMSE        MAE  Number of Samples\n",
       "Estimation of NOx(GT)  110.275677  78.084246                872"
      ]
     },
     "execution_count": 80,
     "metadata": {},
     "output_type": "execute_result"
    }
   ],
   "source": [
    "# Predict target values on test set\n",
    "y_pred2 = model2.predict(X_gen2).flatten()\n",
    "\n",
    "# mse\n",
    "mse2 = mean_squared_error(y_gen2, y_pred2)\n",
    "# root mse\n",
    "rmse2 = mse2 ** 0.5\n",
    "\n",
    "# mae\n",
    "mae2 = mean_absolute_error(y_gen2, y_pred2)\n",
    "\n",
    "num_samples2 = len(y_gen2)\n",
    "\n",
    "rmse_mae = pd.DataFrame({\n",
    "    \"RMSE\": rmse2, \n",
    "    \"MAE\": mae2, \n",
    "    \"Number of Samples\": num_samples2\n",
    "}, index=[\"Estimation of NOx(GT)\"])\n",
    "rmse_mae"
   ]
  },
  {
   "cell_type": "code",
   "execution_count": null,
   "id": "36f32926",
   "metadata": {},
   "outputs": [],
   "source": []
  }
 ],
 "metadata": {
  "kernelspec": {
   "display_name": "Python 3 (ipykernel)",
   "language": "python",
   "name": "python3"
  },
  "language_info": {
   "codemirror_mode": {
    "name": "ipython",
    "version": 3
   },
   "file_extension": ".py",
   "mimetype": "text/x-python",
   "name": "python",
   "nbconvert_exporter": "python",
   "pygments_lexer": "ipython3",
   "version": "3.11.4"
  }
 },
 "nbformat": 4,
 "nbformat_minor": 5
}
